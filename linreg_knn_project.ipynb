{
 "cells": [
  {
   "cell_type": "markdown",
   "metadata": {},
   "source": [
    "<img src=\"http://imgur.com/1ZcRyrc.png\" style=\"float: left; margin: 20px; height: 55px\">\n",
    "\n",
    "# Project 3: Linear Regression and KNN - Train/Test Split\n",
    "\n",
    "---"
   ]
  },
  {
   "cell_type": "markdown",
   "metadata": {},
   "source": [
    "# Introduction\n",
    "\n",
    "To evaluate how our models would perform on new data, we split our data into a training set and a test set, train only on the training set, and evaluate on the test set. In $k$-fold cross validation we repeat this process $k$ times, using a different subset of our data as the test set each time.\n",
    "\n",
    "We use this process to compare multiple models on the same data set. Those models could be variations on a single type (e.g. linear regression models with and without a particular feature), or they could be of completely different types."
   ]
  },
  {
   "cell_type": "markdown",
   "metadata": {},
   "source": [
    "Recall that k-fold cross-validation creates a hold portion of your data set for each iteration of training and validating:\n",
    "\n",
    "![](http://i.imgur.com/0PFrPXJ.png)"
   ]
  },
  {
   "cell_type": "markdown",
   "metadata": {},
   "source": [
    "## Linear Regression Practice\n",
    "\n",
    "In this given task, you will be asked to model the median home price of various houses across U.S. Census tracts in the city of Boston."
   ]
  },
  {
   "cell_type": "code",
   "execution_count": 133,
   "metadata": {},
   "outputs": [],
   "source": [
    "import matplotlib.pyplot as plt\n",
    "\n",
    "% matplotlib inline"
   ]
  },
  {
   "cell_type": "code",
   "execution_count": 134,
   "metadata": {},
   "outputs": [
    {
     "name": "stdout",
     "output_type": "stream",
     "text": [
      "Boston House Prices dataset\n",
      "===========================\n",
      "\n",
      "Notes\n",
      "------\n",
      "Data Set Characteristics:  \n",
      "\n",
      "    :Number of Instances: 506 \n",
      "\n",
      "    :Number of Attributes: 13 numeric/categorical predictive\n",
      "    \n",
      "    :Median Value (attribute 14) is usually the target\n",
      "\n",
      "    :Attribute Information (in order):\n",
      "        - CRIM     per capita crime rate by town\n",
      "        - ZN       proportion of residential land zoned for lots over 25,000 sq.ft.\n",
      "        - INDUS    proportion of non-retail business acres per town\n",
      "        - CHAS     Charles River dummy variable (= 1 if tract bounds river; 0 otherwise)\n",
      "        - NOX      nitric oxides concentration (parts per 10 million)\n",
      "        - RM       average number of rooms per dwelling\n",
      "        - AGE      proportion of owner-occupied units built prior to 1940\n",
      "        - DIS      weighted distances to five Boston employment centres\n",
      "        - RAD      index of accessibility to radial highways\n",
      "        - TAX      full-value property-tax rate per $10,000\n",
      "        - PTRATIO  pupil-teacher ratio by town\n",
      "        - B        1000(Bk - 0.63)^2 where Bk is the proportion of blacks by town\n",
      "        - LSTAT    % lower status of the population\n",
      "        - MEDV     Median value of owner-occupied homes in $1000's\n",
      "\n",
      "    :Missing Attribute Values: None\n",
      "\n",
      "    :Creator: Harrison, D. and Rubinfeld, D.L.\n",
      "\n",
      "This is a copy of UCI ML housing dataset.\n",
      "http://archive.ics.uci.edu/ml/datasets/Housing\n",
      "\n",
      "\n",
      "This dataset was taken from the StatLib library which is maintained at Carnegie Mellon University.\n",
      "\n",
      "The Boston house-price data of Harrison, D. and Rubinfeld, D.L. 'Hedonic\n",
      "prices and the demand for clean air', J. Environ. Economics & Management,\n",
      "vol.5, 81-102, 1978.   Used in Belsley, Kuh & Welsch, 'Regression diagnostics\n",
      "...', Wiley, 1980.   N.B. Various transformations are used in the table on\n",
      "pages 244-261 of the latter.\n",
      "\n",
      "The Boston house-price data has been used in many machine learning papers that address regression\n",
      "problems.   \n",
      "     \n",
      "**References**\n",
      "\n",
      "   - Belsley, Kuh & Welsch, 'Regression diagnostics: Identifying Influential Data and Sources of Collinearity', Wiley, 1980. 244-261.\n",
      "   - Quinlan,R. (1993). Combining Instance-Based and Model-Based Learning. In Proceedings on the Tenth International Conference of Machine Learning, 236-243, University of Massachusetts, Amherst. Morgan Kaufmann.\n",
      "   - many more! (see http://archive.ics.uci.edu/ml/datasets/Housing)\n",
      "\n"
     ]
    }
   ],
   "source": [
    "import pandas as pd\n",
    "import numpy as np\n",
    "import seaborn as sns\n",
    "import matplotlib.pyplot as plt\n",
    "from sklearn.datasets import load_boston\n",
    "\n",
    "plt.style.use('fivethirtyeight') \n",
    "\n",
    "boston = load_boston()\n",
    "\n",
    "X = pd.DataFrame(boston.data,\n",
    "                 columns=boston.feature_names)\n",
    "y = pd.DataFrame(boston.target,\n",
    "                 columns=['MEDV'])\n",
    "\n",
    "print(boston['DESCR'])"
   ]
  },
  {
   "cell_type": "markdown",
   "metadata": {},
   "source": [
    "- Clean Up Data and Perform Exporatory Data Analysis"
   ]
  },
  {
   "cell_type": "markdown",
   "metadata": {},
   "source": [
    "Boston data is from scikit-learn, so it ought to be pretty clean, but we should always perform exploratory data analysis."
   ]
  },
  {
   "cell_type": "markdown",
   "metadata": {},
   "source": [
    "**Items to include:**\n",
    "\n",
    "- Data shape\n",
    "- Data types\n",
    "- Count of null values by column\n",
    "- Basic summary statistics\n",
    "- Number of unique values for each column\n",
    "- Plot of the distribution of each column (e.g. histogram, bar plot, or box plot)\n",
    "- Scatterplot of each column with median price"
   ]
  },
  {
   "cell_type": "code",
   "execution_count": 135,
   "metadata": {},
   "outputs": [],
   "source": [
    "# First need to convert data into dataframe\n",
    "# Start by investigating X and y"
   ]
  },
  {
   "cell_type": "code",
   "execution_count": 136,
   "metadata": {},
   "outputs": [
    {
     "name": "stdout",
     "output_type": "stream",
     "text": [
      "(506, 13)\n"
     ]
    },
    {
     "data": {
      "text/html": [
       "<div>\n",
       "<style scoped>\n",
       "    .dataframe tbody tr th:only-of-type {\n",
       "        vertical-align: middle;\n",
       "    }\n",
       "\n",
       "    .dataframe tbody tr th {\n",
       "        vertical-align: top;\n",
       "    }\n",
       "\n",
       "    .dataframe thead th {\n",
       "        text-align: right;\n",
       "    }\n",
       "</style>\n",
       "<table border=\"1\" class=\"dataframe\">\n",
       "  <thead>\n",
       "    <tr style=\"text-align: right;\">\n",
       "      <th></th>\n",
       "      <th>CRIM</th>\n",
       "      <th>ZN</th>\n",
       "      <th>INDUS</th>\n",
       "      <th>CHAS</th>\n",
       "      <th>NOX</th>\n",
       "      <th>RM</th>\n",
       "      <th>AGE</th>\n",
       "      <th>DIS</th>\n",
       "      <th>RAD</th>\n",
       "      <th>TAX</th>\n",
       "      <th>PTRATIO</th>\n",
       "      <th>B</th>\n",
       "      <th>LSTAT</th>\n",
       "    </tr>\n",
       "  </thead>\n",
       "  <tbody>\n",
       "    <tr>\n",
       "      <th>0</th>\n",
       "      <td>0.00632</td>\n",
       "      <td>18.0</td>\n",
       "      <td>2.31</td>\n",
       "      <td>0.0</td>\n",
       "      <td>0.538</td>\n",
       "      <td>6.575</td>\n",
       "      <td>65.2</td>\n",
       "      <td>4.0900</td>\n",
       "      <td>1.0</td>\n",
       "      <td>296.0</td>\n",
       "      <td>15.3</td>\n",
       "      <td>396.90</td>\n",
       "      <td>4.98</td>\n",
       "    </tr>\n",
       "    <tr>\n",
       "      <th>1</th>\n",
       "      <td>0.02731</td>\n",
       "      <td>0.0</td>\n",
       "      <td>7.07</td>\n",
       "      <td>0.0</td>\n",
       "      <td>0.469</td>\n",
       "      <td>6.421</td>\n",
       "      <td>78.9</td>\n",
       "      <td>4.9671</td>\n",
       "      <td>2.0</td>\n",
       "      <td>242.0</td>\n",
       "      <td>17.8</td>\n",
       "      <td>396.90</td>\n",
       "      <td>9.14</td>\n",
       "    </tr>\n",
       "    <tr>\n",
       "      <th>2</th>\n",
       "      <td>0.02729</td>\n",
       "      <td>0.0</td>\n",
       "      <td>7.07</td>\n",
       "      <td>0.0</td>\n",
       "      <td>0.469</td>\n",
       "      <td>7.185</td>\n",
       "      <td>61.1</td>\n",
       "      <td>4.9671</td>\n",
       "      <td>2.0</td>\n",
       "      <td>242.0</td>\n",
       "      <td>17.8</td>\n",
       "      <td>392.83</td>\n",
       "      <td>4.03</td>\n",
       "    </tr>\n",
       "    <tr>\n",
       "      <th>3</th>\n",
       "      <td>0.03237</td>\n",
       "      <td>0.0</td>\n",
       "      <td>2.18</td>\n",
       "      <td>0.0</td>\n",
       "      <td>0.458</td>\n",
       "      <td>6.998</td>\n",
       "      <td>45.8</td>\n",
       "      <td>6.0622</td>\n",
       "      <td>3.0</td>\n",
       "      <td>222.0</td>\n",
       "      <td>18.7</td>\n",
       "      <td>394.63</td>\n",
       "      <td>2.94</td>\n",
       "    </tr>\n",
       "    <tr>\n",
       "      <th>4</th>\n",
       "      <td>0.06905</td>\n",
       "      <td>0.0</td>\n",
       "      <td>2.18</td>\n",
       "      <td>0.0</td>\n",
       "      <td>0.458</td>\n",
       "      <td>7.147</td>\n",
       "      <td>54.2</td>\n",
       "      <td>6.0622</td>\n",
       "      <td>3.0</td>\n",
       "      <td>222.0</td>\n",
       "      <td>18.7</td>\n",
       "      <td>396.90</td>\n",
       "      <td>5.33</td>\n",
       "    </tr>\n",
       "  </tbody>\n",
       "</table>\n",
       "</div>"
      ],
      "text/plain": [
       "      CRIM    ZN  INDUS  CHAS    NOX     RM   AGE     DIS  RAD    TAX  \\\n",
       "0  0.00632  18.0   2.31   0.0  0.538  6.575  65.2  4.0900  1.0  296.0   \n",
       "1  0.02731   0.0   7.07   0.0  0.469  6.421  78.9  4.9671  2.0  242.0   \n",
       "2  0.02729   0.0   7.07   0.0  0.469  7.185  61.1  4.9671  2.0  242.0   \n",
       "3  0.03237   0.0   2.18   0.0  0.458  6.998  45.8  6.0622  3.0  222.0   \n",
       "4  0.06905   0.0   2.18   0.0  0.458  7.147  54.2  6.0622  3.0  222.0   \n",
       "\n",
       "   PTRATIO       B  LSTAT  \n",
       "0     15.3  396.90   4.98  \n",
       "1     17.8  396.90   9.14  \n",
       "2     17.8  392.83   4.03  \n",
       "3     18.7  394.63   2.94  \n",
       "4     18.7  396.90   5.33  "
      ]
     },
     "execution_count": 136,
     "metadata": {},
     "output_type": "execute_result"
    }
   ],
   "source": [
    "print(X.shape)\n",
    "X.head()\n",
    "\n",
    "# X contains all 13 variables except MEDV"
   ]
  },
  {
   "cell_type": "code",
   "execution_count": 137,
   "metadata": {},
   "outputs": [
    {
     "name": "stdout",
     "output_type": "stream",
     "text": [
      "(506, 1)\n"
     ]
    },
    {
     "data": {
      "text/html": [
       "<div>\n",
       "<style scoped>\n",
       "    .dataframe tbody tr th:only-of-type {\n",
       "        vertical-align: middle;\n",
       "    }\n",
       "\n",
       "    .dataframe tbody tr th {\n",
       "        vertical-align: top;\n",
       "    }\n",
       "\n",
       "    .dataframe thead th {\n",
       "        text-align: right;\n",
       "    }\n",
       "</style>\n",
       "<table border=\"1\" class=\"dataframe\">\n",
       "  <thead>\n",
       "    <tr style=\"text-align: right;\">\n",
       "      <th></th>\n",
       "      <th>MEDV</th>\n",
       "    </tr>\n",
       "  </thead>\n",
       "  <tbody>\n",
       "    <tr>\n",
       "      <th>0</th>\n",
       "      <td>24.0</td>\n",
       "    </tr>\n",
       "    <tr>\n",
       "      <th>1</th>\n",
       "      <td>21.6</td>\n",
       "    </tr>\n",
       "    <tr>\n",
       "      <th>2</th>\n",
       "      <td>34.7</td>\n",
       "    </tr>\n",
       "    <tr>\n",
       "      <th>3</th>\n",
       "      <td>33.4</td>\n",
       "    </tr>\n",
       "    <tr>\n",
       "      <th>4</th>\n",
       "      <td>36.2</td>\n",
       "    </tr>\n",
       "  </tbody>\n",
       "</table>\n",
       "</div>"
      ],
      "text/plain": [
       "   MEDV\n",
       "0  24.0\n",
       "1  21.6\n",
       "2  34.7\n",
       "3  33.4\n",
       "4  36.2"
      ]
     },
     "execution_count": 137,
     "metadata": {},
     "output_type": "execute_result"
    }
   ],
   "source": [
    "print(y.shape)\n",
    "y.head()\n",
    "\n",
    "# y contains the missing MEDV\n",
    "# Both X and y have same # of rows"
   ]
  },
  {
   "cell_type": "code",
   "execution_count": 138,
   "metadata": {},
   "outputs": [
    {
     "data": {
      "text/html": [
       "<div>\n",
       "<style scoped>\n",
       "    .dataframe tbody tr th:only-of-type {\n",
       "        vertical-align: middle;\n",
       "    }\n",
       "\n",
       "    .dataframe tbody tr th {\n",
       "        vertical-align: top;\n",
       "    }\n",
       "\n",
       "    .dataframe thead th {\n",
       "        text-align: right;\n",
       "    }\n",
       "</style>\n",
       "<table border=\"1\" class=\"dataframe\">\n",
       "  <thead>\n",
       "    <tr style=\"text-align: right;\">\n",
       "      <th></th>\n",
       "      <th>CRIM</th>\n",
       "      <th>ZN</th>\n",
       "      <th>INDUS</th>\n",
       "      <th>CHAS</th>\n",
       "      <th>NOX</th>\n",
       "      <th>RM</th>\n",
       "      <th>AGE</th>\n",
       "      <th>DIS</th>\n",
       "      <th>RAD</th>\n",
       "      <th>TAX</th>\n",
       "      <th>PTRATIO</th>\n",
       "      <th>B</th>\n",
       "      <th>LSTAT</th>\n",
       "    </tr>\n",
       "  </thead>\n",
       "  <tbody>\n",
       "    <tr>\n",
       "      <th>0</th>\n",
       "      <td>0.00632</td>\n",
       "      <td>18.0</td>\n",
       "      <td>2.31</td>\n",
       "      <td>0.0</td>\n",
       "      <td>0.538</td>\n",
       "      <td>6.575</td>\n",
       "      <td>65.2</td>\n",
       "      <td>4.0900</td>\n",
       "      <td>1.0</td>\n",
       "      <td>296.0</td>\n",
       "      <td>15.3</td>\n",
       "      <td>396.90</td>\n",
       "      <td>4.98</td>\n",
       "    </tr>\n",
       "    <tr>\n",
       "      <th>1</th>\n",
       "      <td>0.02731</td>\n",
       "      <td>0.0</td>\n",
       "      <td>7.07</td>\n",
       "      <td>0.0</td>\n",
       "      <td>0.469</td>\n",
       "      <td>6.421</td>\n",
       "      <td>78.9</td>\n",
       "      <td>4.9671</td>\n",
       "      <td>2.0</td>\n",
       "      <td>242.0</td>\n",
       "      <td>17.8</td>\n",
       "      <td>396.90</td>\n",
       "      <td>9.14</td>\n",
       "    </tr>\n",
       "    <tr>\n",
       "      <th>2</th>\n",
       "      <td>0.02729</td>\n",
       "      <td>0.0</td>\n",
       "      <td>7.07</td>\n",
       "      <td>0.0</td>\n",
       "      <td>0.469</td>\n",
       "      <td>7.185</td>\n",
       "      <td>61.1</td>\n",
       "      <td>4.9671</td>\n",
       "      <td>2.0</td>\n",
       "      <td>242.0</td>\n",
       "      <td>17.8</td>\n",
       "      <td>392.83</td>\n",
       "      <td>4.03</td>\n",
       "    </tr>\n",
       "    <tr>\n",
       "      <th>3</th>\n",
       "      <td>0.03237</td>\n",
       "      <td>0.0</td>\n",
       "      <td>2.18</td>\n",
       "      <td>0.0</td>\n",
       "      <td>0.458</td>\n",
       "      <td>6.998</td>\n",
       "      <td>45.8</td>\n",
       "      <td>6.0622</td>\n",
       "      <td>3.0</td>\n",
       "      <td>222.0</td>\n",
       "      <td>18.7</td>\n",
       "      <td>394.63</td>\n",
       "      <td>2.94</td>\n",
       "    </tr>\n",
       "    <tr>\n",
       "      <th>4</th>\n",
       "      <td>0.06905</td>\n",
       "      <td>0.0</td>\n",
       "      <td>2.18</td>\n",
       "      <td>0.0</td>\n",
       "      <td>0.458</td>\n",
       "      <td>7.147</td>\n",
       "      <td>54.2</td>\n",
       "      <td>6.0622</td>\n",
       "      <td>3.0</td>\n",
       "      <td>222.0</td>\n",
       "      <td>18.7</td>\n",
       "      <td>396.90</td>\n",
       "      <td>5.33</td>\n",
       "    </tr>\n",
       "  </tbody>\n",
       "</table>\n",
       "</div>"
      ],
      "text/plain": [
       "      CRIM    ZN  INDUS  CHAS    NOX     RM   AGE     DIS  RAD    TAX  \\\n",
       "0  0.00632  18.0   2.31   0.0  0.538  6.575  65.2  4.0900  1.0  296.0   \n",
       "1  0.02731   0.0   7.07   0.0  0.469  6.421  78.9  4.9671  2.0  242.0   \n",
       "2  0.02729   0.0   7.07   0.0  0.469  7.185  61.1  4.9671  2.0  242.0   \n",
       "3  0.03237   0.0   2.18   0.0  0.458  6.998  45.8  6.0622  3.0  222.0   \n",
       "4  0.06905   0.0   2.18   0.0  0.458  7.147  54.2  6.0622  3.0  222.0   \n",
       "\n",
       "   PTRATIO       B  LSTAT  \n",
       "0     15.3  396.90   4.98  \n",
       "1     17.8  396.90   9.14  \n",
       "2     17.8  392.83   4.03  \n",
       "3     18.7  394.63   2.94  \n",
       "4     18.7  396.90   5.33  "
      ]
     },
     "execution_count": 138,
     "metadata": {},
     "output_type": "execute_result"
    }
   ],
   "source": [
    "# Make initial df with data in X\n",
    "bos_df = pd.DataFrame(X)\n",
    "bos_df.head()"
   ]
  },
  {
   "cell_type": "code",
   "execution_count": 139,
   "metadata": {},
   "outputs": [
    {
     "data": {
      "text/html": [
       "<div>\n",
       "<style scoped>\n",
       "    .dataframe tbody tr th:only-of-type {\n",
       "        vertical-align: middle;\n",
       "    }\n",
       "\n",
       "    .dataframe tbody tr th {\n",
       "        vertical-align: top;\n",
       "    }\n",
       "\n",
       "    .dataframe thead th {\n",
       "        text-align: right;\n",
       "    }\n",
       "</style>\n",
       "<table border=\"1\" class=\"dataframe\">\n",
       "  <thead>\n",
       "    <tr style=\"text-align: right;\">\n",
       "      <th></th>\n",
       "      <th>CRIM</th>\n",
       "      <th>ZN</th>\n",
       "      <th>INDUS</th>\n",
       "      <th>CHAS</th>\n",
       "      <th>NOX</th>\n",
       "      <th>RM</th>\n",
       "      <th>AGE</th>\n",
       "      <th>DIS</th>\n",
       "      <th>RAD</th>\n",
       "      <th>TAX</th>\n",
       "      <th>PTRATIO</th>\n",
       "      <th>B</th>\n",
       "      <th>LSTAT</th>\n",
       "      <th>MEDV</th>\n",
       "    </tr>\n",
       "  </thead>\n",
       "  <tbody>\n",
       "    <tr>\n",
       "      <th>0</th>\n",
       "      <td>0.00632</td>\n",
       "      <td>18.0</td>\n",
       "      <td>2.31</td>\n",
       "      <td>0.0</td>\n",
       "      <td>0.538</td>\n",
       "      <td>6.575</td>\n",
       "      <td>65.2</td>\n",
       "      <td>4.0900</td>\n",
       "      <td>1.0</td>\n",
       "      <td>296.0</td>\n",
       "      <td>15.3</td>\n",
       "      <td>396.90</td>\n",
       "      <td>4.98</td>\n",
       "      <td>24.0</td>\n",
       "    </tr>\n",
       "    <tr>\n",
       "      <th>1</th>\n",
       "      <td>0.02731</td>\n",
       "      <td>0.0</td>\n",
       "      <td>7.07</td>\n",
       "      <td>0.0</td>\n",
       "      <td>0.469</td>\n",
       "      <td>6.421</td>\n",
       "      <td>78.9</td>\n",
       "      <td>4.9671</td>\n",
       "      <td>2.0</td>\n",
       "      <td>242.0</td>\n",
       "      <td>17.8</td>\n",
       "      <td>396.90</td>\n",
       "      <td>9.14</td>\n",
       "      <td>21.6</td>\n",
       "    </tr>\n",
       "    <tr>\n",
       "      <th>2</th>\n",
       "      <td>0.02729</td>\n",
       "      <td>0.0</td>\n",
       "      <td>7.07</td>\n",
       "      <td>0.0</td>\n",
       "      <td>0.469</td>\n",
       "      <td>7.185</td>\n",
       "      <td>61.1</td>\n",
       "      <td>4.9671</td>\n",
       "      <td>2.0</td>\n",
       "      <td>242.0</td>\n",
       "      <td>17.8</td>\n",
       "      <td>392.83</td>\n",
       "      <td>4.03</td>\n",
       "      <td>34.7</td>\n",
       "    </tr>\n",
       "    <tr>\n",
       "      <th>3</th>\n",
       "      <td>0.03237</td>\n",
       "      <td>0.0</td>\n",
       "      <td>2.18</td>\n",
       "      <td>0.0</td>\n",
       "      <td>0.458</td>\n",
       "      <td>6.998</td>\n",
       "      <td>45.8</td>\n",
       "      <td>6.0622</td>\n",
       "      <td>3.0</td>\n",
       "      <td>222.0</td>\n",
       "      <td>18.7</td>\n",
       "      <td>394.63</td>\n",
       "      <td>2.94</td>\n",
       "      <td>33.4</td>\n",
       "    </tr>\n",
       "    <tr>\n",
       "      <th>4</th>\n",
       "      <td>0.06905</td>\n",
       "      <td>0.0</td>\n",
       "      <td>2.18</td>\n",
       "      <td>0.0</td>\n",
       "      <td>0.458</td>\n",
       "      <td>7.147</td>\n",
       "      <td>54.2</td>\n",
       "      <td>6.0622</td>\n",
       "      <td>3.0</td>\n",
       "      <td>222.0</td>\n",
       "      <td>18.7</td>\n",
       "      <td>396.90</td>\n",
       "      <td>5.33</td>\n",
       "      <td>36.2</td>\n",
       "    </tr>\n",
       "  </tbody>\n",
       "</table>\n",
       "</div>"
      ],
      "text/plain": [
       "      CRIM    ZN  INDUS  CHAS    NOX     RM   AGE     DIS  RAD    TAX  \\\n",
       "0  0.00632  18.0   2.31   0.0  0.538  6.575  65.2  4.0900  1.0  296.0   \n",
       "1  0.02731   0.0   7.07   0.0  0.469  6.421  78.9  4.9671  2.0  242.0   \n",
       "2  0.02729   0.0   7.07   0.0  0.469  7.185  61.1  4.9671  2.0  242.0   \n",
       "3  0.03237   0.0   2.18   0.0  0.458  6.998  45.8  6.0622  3.0  222.0   \n",
       "4  0.06905   0.0   2.18   0.0  0.458  7.147  54.2  6.0622  3.0  222.0   \n",
       "\n",
       "   PTRATIO       B  LSTAT  MEDV  \n",
       "0     15.3  396.90   4.98  24.0  \n",
       "1     17.8  396.90   9.14  21.6  \n",
       "2     17.8  392.83   4.03  34.7  \n",
       "3     18.7  394.63   2.94  33.4  \n",
       "4     18.7  396.90   5.33  36.2  "
      ]
     },
     "execution_count": 139,
     "metadata": {},
     "output_type": "execute_result"
    }
   ],
   "source": [
    "# Add MEDV column from y\n",
    "bos_df['MEDV'] = y\n",
    "bos_df.head()\n",
    "# df is ready"
   ]
  },
  {
   "cell_type": "markdown",
   "metadata": {},
   "source": [
    "### Exploring the Boston Housing Data"
   ]
  },
  {
   "cell_type": "code",
   "execution_count": 140,
   "metadata": {},
   "outputs": [
    {
     "data": {
      "text/plain": [
       "(506, 14)"
      ]
     },
     "execution_count": 140,
     "metadata": {},
     "output_type": "execute_result"
    }
   ],
   "source": [
    "# Data shape\n",
    "bos_df.shape"
   ]
  },
  {
   "cell_type": "code",
   "execution_count": 141,
   "metadata": {},
   "outputs": [
    {
     "data": {
      "text/plain": [
       "CRIM       float64\n",
       "ZN         float64\n",
       "INDUS      float64\n",
       "CHAS       float64\n",
       "NOX        float64\n",
       "RM         float64\n",
       "AGE        float64\n",
       "DIS        float64\n",
       "RAD        float64\n",
       "TAX        float64\n",
       "PTRATIO    float64\n",
       "B          float64\n",
       "LSTAT      float64\n",
       "MEDV       float64\n",
       "dtype: object"
      ]
     },
     "execution_count": 141,
     "metadata": {},
     "output_type": "execute_result"
    }
   ],
   "source": [
    "# Data types\n",
    "bos_df.dtypes"
   ]
  },
  {
   "cell_type": "code",
   "execution_count": 142,
   "metadata": {},
   "outputs": [
    {
     "data": {
      "text/plain": [
       "CRIM       0\n",
       "ZN         0\n",
       "INDUS      0\n",
       "CHAS       0\n",
       "NOX        0\n",
       "RM         0\n",
       "AGE        0\n",
       "DIS        0\n",
       "RAD        0\n",
       "TAX        0\n",
       "PTRATIO    0\n",
       "B          0\n",
       "LSTAT      0\n",
       "MEDV       0\n",
       "dtype: int64"
      ]
     },
     "execution_count": 142,
     "metadata": {},
     "output_type": "execute_result"
    }
   ],
   "source": [
    "# Check for null values\n",
    "bos_df.isnull().sum()"
   ]
  },
  {
   "cell_type": "code",
   "execution_count": 143,
   "metadata": {},
   "outputs": [
    {
     "data": {
      "text/html": [
       "<div>\n",
       "<style scoped>\n",
       "    .dataframe tbody tr th:only-of-type {\n",
       "        vertical-align: middle;\n",
       "    }\n",
       "\n",
       "    .dataframe tbody tr th {\n",
       "        vertical-align: top;\n",
       "    }\n",
       "\n",
       "    .dataframe thead th {\n",
       "        text-align: right;\n",
       "    }\n",
       "</style>\n",
       "<table border=\"1\" class=\"dataframe\">\n",
       "  <thead>\n",
       "    <tr style=\"text-align: right;\">\n",
       "      <th></th>\n",
       "      <th>CRIM</th>\n",
       "      <th>ZN</th>\n",
       "      <th>INDUS</th>\n",
       "      <th>CHAS</th>\n",
       "      <th>NOX</th>\n",
       "      <th>RM</th>\n",
       "      <th>AGE</th>\n",
       "      <th>DIS</th>\n",
       "      <th>RAD</th>\n",
       "      <th>TAX</th>\n",
       "      <th>PTRATIO</th>\n",
       "      <th>B</th>\n",
       "      <th>LSTAT</th>\n",
       "      <th>MEDV</th>\n",
       "    </tr>\n",
       "  </thead>\n",
       "  <tbody>\n",
       "    <tr>\n",
       "      <th>count</th>\n",
       "      <td>506.000000</td>\n",
       "      <td>506.000000</td>\n",
       "      <td>506.000000</td>\n",
       "      <td>506.000000</td>\n",
       "      <td>506.000000</td>\n",
       "      <td>506.000000</td>\n",
       "      <td>506.000000</td>\n",
       "      <td>506.000000</td>\n",
       "      <td>506.000000</td>\n",
       "      <td>506.000000</td>\n",
       "      <td>506.000000</td>\n",
       "      <td>506.000000</td>\n",
       "      <td>506.000000</td>\n",
       "      <td>506.000000</td>\n",
       "    </tr>\n",
       "    <tr>\n",
       "      <th>mean</th>\n",
       "      <td>3.593761</td>\n",
       "      <td>11.363636</td>\n",
       "      <td>11.136779</td>\n",
       "      <td>0.069170</td>\n",
       "      <td>0.554695</td>\n",
       "      <td>6.284634</td>\n",
       "      <td>68.574901</td>\n",
       "      <td>3.795043</td>\n",
       "      <td>9.549407</td>\n",
       "      <td>408.237154</td>\n",
       "      <td>18.455534</td>\n",
       "      <td>356.674032</td>\n",
       "      <td>12.653063</td>\n",
       "      <td>22.532806</td>\n",
       "    </tr>\n",
       "    <tr>\n",
       "      <th>std</th>\n",
       "      <td>8.596783</td>\n",
       "      <td>23.322453</td>\n",
       "      <td>6.860353</td>\n",
       "      <td>0.253994</td>\n",
       "      <td>0.115878</td>\n",
       "      <td>0.702617</td>\n",
       "      <td>28.148861</td>\n",
       "      <td>2.105710</td>\n",
       "      <td>8.707259</td>\n",
       "      <td>168.537116</td>\n",
       "      <td>2.164946</td>\n",
       "      <td>91.294864</td>\n",
       "      <td>7.141062</td>\n",
       "      <td>9.197104</td>\n",
       "    </tr>\n",
       "    <tr>\n",
       "      <th>min</th>\n",
       "      <td>0.006320</td>\n",
       "      <td>0.000000</td>\n",
       "      <td>0.460000</td>\n",
       "      <td>0.000000</td>\n",
       "      <td>0.385000</td>\n",
       "      <td>3.561000</td>\n",
       "      <td>2.900000</td>\n",
       "      <td>1.129600</td>\n",
       "      <td>1.000000</td>\n",
       "      <td>187.000000</td>\n",
       "      <td>12.600000</td>\n",
       "      <td>0.320000</td>\n",
       "      <td>1.730000</td>\n",
       "      <td>5.000000</td>\n",
       "    </tr>\n",
       "    <tr>\n",
       "      <th>25%</th>\n",
       "      <td>0.082045</td>\n",
       "      <td>0.000000</td>\n",
       "      <td>5.190000</td>\n",
       "      <td>0.000000</td>\n",
       "      <td>0.449000</td>\n",
       "      <td>5.885500</td>\n",
       "      <td>45.025000</td>\n",
       "      <td>2.100175</td>\n",
       "      <td>4.000000</td>\n",
       "      <td>279.000000</td>\n",
       "      <td>17.400000</td>\n",
       "      <td>375.377500</td>\n",
       "      <td>6.950000</td>\n",
       "      <td>17.025000</td>\n",
       "    </tr>\n",
       "    <tr>\n",
       "      <th>50%</th>\n",
       "      <td>0.256510</td>\n",
       "      <td>0.000000</td>\n",
       "      <td>9.690000</td>\n",
       "      <td>0.000000</td>\n",
       "      <td>0.538000</td>\n",
       "      <td>6.208500</td>\n",
       "      <td>77.500000</td>\n",
       "      <td>3.207450</td>\n",
       "      <td>5.000000</td>\n",
       "      <td>330.000000</td>\n",
       "      <td>19.050000</td>\n",
       "      <td>391.440000</td>\n",
       "      <td>11.360000</td>\n",
       "      <td>21.200000</td>\n",
       "    </tr>\n",
       "    <tr>\n",
       "      <th>75%</th>\n",
       "      <td>3.647423</td>\n",
       "      <td>12.500000</td>\n",
       "      <td>18.100000</td>\n",
       "      <td>0.000000</td>\n",
       "      <td>0.624000</td>\n",
       "      <td>6.623500</td>\n",
       "      <td>94.075000</td>\n",
       "      <td>5.188425</td>\n",
       "      <td>24.000000</td>\n",
       "      <td>666.000000</td>\n",
       "      <td>20.200000</td>\n",
       "      <td>396.225000</td>\n",
       "      <td>16.955000</td>\n",
       "      <td>25.000000</td>\n",
       "    </tr>\n",
       "    <tr>\n",
       "      <th>max</th>\n",
       "      <td>88.976200</td>\n",
       "      <td>100.000000</td>\n",
       "      <td>27.740000</td>\n",
       "      <td>1.000000</td>\n",
       "      <td>0.871000</td>\n",
       "      <td>8.780000</td>\n",
       "      <td>100.000000</td>\n",
       "      <td>12.126500</td>\n",
       "      <td>24.000000</td>\n",
       "      <td>711.000000</td>\n",
       "      <td>22.000000</td>\n",
       "      <td>396.900000</td>\n",
       "      <td>37.970000</td>\n",
       "      <td>50.000000</td>\n",
       "    </tr>\n",
       "  </tbody>\n",
       "</table>\n",
       "</div>"
      ],
      "text/plain": [
       "             CRIM          ZN       INDUS        CHAS         NOX          RM  \\\n",
       "count  506.000000  506.000000  506.000000  506.000000  506.000000  506.000000   \n",
       "mean     3.593761   11.363636   11.136779    0.069170    0.554695    6.284634   \n",
       "std      8.596783   23.322453    6.860353    0.253994    0.115878    0.702617   \n",
       "min      0.006320    0.000000    0.460000    0.000000    0.385000    3.561000   \n",
       "25%      0.082045    0.000000    5.190000    0.000000    0.449000    5.885500   \n",
       "50%      0.256510    0.000000    9.690000    0.000000    0.538000    6.208500   \n",
       "75%      3.647423   12.500000   18.100000    0.000000    0.624000    6.623500   \n",
       "max     88.976200  100.000000   27.740000    1.000000    0.871000    8.780000   \n",
       "\n",
       "              AGE         DIS         RAD         TAX     PTRATIO           B  \\\n",
       "count  506.000000  506.000000  506.000000  506.000000  506.000000  506.000000   \n",
       "mean    68.574901    3.795043    9.549407  408.237154   18.455534  356.674032   \n",
       "std     28.148861    2.105710    8.707259  168.537116    2.164946   91.294864   \n",
       "min      2.900000    1.129600    1.000000  187.000000   12.600000    0.320000   \n",
       "25%     45.025000    2.100175    4.000000  279.000000   17.400000  375.377500   \n",
       "50%     77.500000    3.207450    5.000000  330.000000   19.050000  391.440000   \n",
       "75%     94.075000    5.188425   24.000000  666.000000   20.200000  396.225000   \n",
       "max    100.000000   12.126500   24.000000  711.000000   22.000000  396.900000   \n",
       "\n",
       "            LSTAT        MEDV  \n",
       "count  506.000000  506.000000  \n",
       "mean    12.653063   22.532806  \n",
       "std      7.141062    9.197104  \n",
       "min      1.730000    5.000000  \n",
       "25%      6.950000   17.025000  \n",
       "50%     11.360000   21.200000  \n",
       "75%     16.955000   25.000000  \n",
       "max     37.970000   50.000000  "
      ]
     },
     "execution_count": 143,
     "metadata": {},
     "output_type": "execute_result"
    }
   ],
   "source": [
    "# Summary statistics\n",
    "bos_df.describe()"
   ]
  },
  {
   "cell_type": "code",
   "execution_count": 144,
   "metadata": {},
   "outputs": [
    {
     "data": {
      "text/plain": [
       "CRIM       504\n",
       "ZN          26\n",
       "INDUS       76\n",
       "CHAS         2\n",
       "NOX         81\n",
       "RM         446\n",
       "AGE        356\n",
       "DIS        412\n",
       "RAD          9\n",
       "TAX         66\n",
       "PTRATIO     46\n",
       "B          357\n",
       "LSTAT      455\n",
       "MEDV       229\n",
       "dtype: int64"
      ]
     },
     "execution_count": 144,
     "metadata": {},
     "output_type": "execute_result"
    }
   ],
   "source": [
    "# Number of unique values for each column\n",
    "bos_df.nunique()"
   ]
  },
  {
   "cell_type": "code",
   "execution_count": 145,
   "metadata": {},
   "outputs": [
    {
     "data": {
      "image/png": "[encoded data removed]",
      "text/plain": [
       "<matplotlib.figure.Figure at 0x1a227e9358>"
      ]
     },
     "metadata": {},
     "output_type": "display_data"
    }
   ],
   "source": [
    "# Plot of the distribution of each column (e.g. histogram, bar plot, or box plot)\n",
    "axes = bos_df.hist(figsize=(12,12))"
   ]
  },
  {
   "cell_type": "code",
   "execution_count": 146,
   "metadata": {},
   "outputs": [
    {
     "data": {
      "image/png": "[encoded data removed]",
      "text/plain": [
       "<matplotlib.figure.Figure at 0x1a20069c50>"
      ]
     },
     "metadata": {},
     "output_type": "display_data"
    }
   ],
   "source": [
    "# Scatterplot of each column with median price\n",
    "\n",
    "feature_cols = ['CRIM', 'ZN', 'INDUS', 'CHAS', 'NOX', 'RM', 'AGE']\n",
    "\n",
    "g = sns.pairplot(bos_df,\n",
    "                x_vars = feature_cols, \n",
    "                y_vars = 'MEDV',\n",
    "                kind = 'scatter')"
   ]
  },
  {
   "cell_type": "code",
   "execution_count": 147,
   "metadata": {},
   "outputs": [
    {
     "data": {
      "image/png": "[encoded data removed]",
      "text/plain": [
       "<matplotlib.figure.Figure at 0x1a20069e10>"
      ]
     },
     "metadata": {},
     "output_type": "display_data"
    }
   ],
   "source": [
    "# Scatterplot of each column with median price, continued\n",
    "\n",
    "feature_cols = ['DIS', 'RAD', 'TAX', 'PTRATIO', 'B','LSTAT']\n",
    "\n",
    "g = sns.pairplot(bos_df,\n",
    "                x_vars = feature_cols, \n",
    "                y_vars = 'MEDV',\n",
    "                kind = 'scatter')"
   ]
  },
  {
   "cell_type": "markdown",
   "metadata": {},
   "source": [
    "### Boston Housing LinReg Null Model"
   ]
  },
  {
   "cell_type": "markdown",
   "metadata": {},
   "source": [
    "- Get the MSE of a null model that simply predicts the mean value of MEDV. (You could do a train/test split here, but it won't make much difference for such a simple model.)"
   ]
  },
  {
   "cell_type": "code",
   "execution_count": 148,
   "metadata": {},
   "outputs": [
    {
     "name": "stdout",
     "output_type": "stream",
     "text": [
      "Mean of MEDV: 22.532806324110698\n",
      "Null Model MSE: 84.41955615616554\n"
     ]
    }
   ],
   "source": [
    "from sklearn import metrics\n",
    "\n",
    "# Determine mean value of MEDV column\n",
    "print('Mean of MEDV:', bos_df.loc[:, 'MEDV'].mean())\n",
    "\n",
    "# Create array of zeros and add the mean MEDV value\n",
    "null_pred = np.zeros(len(bos_df.loc[:, 'MEDV'])) + bos_df.loc[:, 'MEDV'].mean()\n",
    "\n",
    "# Calculate MSE of null model (true, pred)\n",
    "print('Null Model MSE:', metrics.mean_squared_error(bos_df.loc[:, 'MEDV'], null_pred))"
   ]
  },
  {
   "cell_type": "markdown",
   "metadata": {},
   "source": [
    "### Initial Boston Housing LinReg Model"
   ]
  },
  {
   "cell_type": "markdown",
   "metadata": {},
   "source": [
    "- Develop a linear regression model to predict MEDV. Train it on 70% of the data. Gets its MSE on both that 70% and the other 30%."
   ]
  },
  {
   "cell_type": "code",
   "execution_count": 149,
   "metadata": {},
   "outputs": [
    {
     "name": "stdout",
     "output_type": "stream",
     "text": [
      "MSE Training: 20.19770234867637\n",
      "MSE Testing: 28.37644965546655\n"
     ]
    }
   ],
   "source": [
    "# Linear Regression: import, instantiate, fit, predict\n",
    "from sklearn.linear_model import LinearRegression # import\n",
    "from sklearn.model_selection import train_test_split\n",
    "\n",
    "feature_cols = ['CRIM', 'ZN', 'INDUS', 'CHAS', 'NOX', 'RM', \n",
    "                'AGE', 'DIS', 'RAD', 'TAX', 'PTRATIO', 'B','LSTAT']\n",
    "\n",
    "X = bos_df.loc[:, feature_cols]\n",
    "y = bos_df.loc[:, 'MEDV']\n",
    "\n",
    "X_train, X_test, y_train, y_test = train_test_split(\n",
    "    X, y, random_state=123, train_size=0.70, test_size=0.3)\n",
    "\n",
    "linreg = LinearRegression() # instantiate\n",
    "linreg.fit(X_train, y_train) # fit\n",
    "y_pred = linreg.predict(X_test) # predict\n",
    "\n",
    "# MSE on training set\n",
    "print('MSE Training:', metrics.mean_squared_error(y_train, linreg.predict(X_train)))\n",
    "\n",
    "# MSE on test set\n",
    "print('MSE Testing:', metrics.mean_squared_error(y_test, y_pred))"
   ]
  },
  {
   "cell_type": "markdown",
   "metadata": {},
   "source": [
    "- K-fold cross-validation is slower than a simple train/test split, but it gives more reliable estimates of generalization error. Use ten-fold cross-validation to evaluate your model's MSE on both training and test data. Use this result to answer the following questions."
   ]
  },
  {
   "cell_type": "code",
   "execution_count": 150,
   "metadata": {},
   "outputs": [
    {
     "data": {
      "text/plain": [
       "[(array([  0,   1,   3,   4,   5,   6,   7,   8,   9,  10,  11,  13,  14,\n",
       "          15,  16,  17,  18,  20,  21,  23,  25,  26,  27,  31,  32,  33,\n",
       "          34,  35,  36,  37,  38,  39,  40,  41,  42,  44,  45,  46,  48,\n",
       "          49,  50,  51,  52,  53,  54,  55,  56,  57,  58,  59,  60,  61,\n",
       "          62,  63,  64,  65,  66,  68,  69,  70,  71,  72,  73,  74,  75,\n",
       "          76,  77,  78,  79,  80,  81,  82,  83,  84,  86,  87,  88,  89,\n",
       "          90,  92,  94,  95,  96,  97,  98,  99, 100, 101, 102, 103, 104,\n",
       "         105, 106, 107, 108, 109, 110, 112, 113, 114, 115, 116, 117, 118,\n",
       "         119, 120, 121, 122, 123, 124, 125, 126, 127, 128, 129, 130, 131,\n",
       "         132, 134, 135, 136, 137, 138, 139, 140, 141, 142, 143, 144, 145,\n",
       "         147, 148, 149, 150, 151, 152, 153, 154, 156, 157, 158, 159, 160,\n",
       "         161, 162, 163, 164, 165, 166, 167, 168, 169, 170, 171, 172, 173,\n",
       "         174, 175, 176, 177, 178, 179, 180, 181, 182, 183, 184, 185, 186,\n",
       "         187, 188, 189, 190, 191, 192, 193, 194, 196, 197, 198, 199, 200,\n",
       "         201, 202, 204, 206, 207, 210, 211, 212, 214, 215, 217, 218, 220,\n",
       "         221, 222, 223, 224, 225, 226, 227, 228, 230, 231, 233, 234, 235,\n",
       "         236, 237, 238, 239, 241, 242, 243, 244, 246, 247, 248, 249, 250,\n",
       "         251, 252, 253, 254, 255, 256, 257, 258, 259, 260, 261, 262, 263,\n",
       "         264, 265, 266, 267, 269, 270, 271, 272, 273, 274, 275, 276, 277,\n",
       "         278, 279, 280, 281, 282, 283, 284, 286, 287, 288, 289, 290, 292,\n",
       "         293, 294, 295, 296, 297, 298, 301, 302, 303, 304, 305, 306, 307,\n",
       "         308, 309, 311, 312, 313, 314, 316, 317, 318, 319, 321, 322, 323,\n",
       "         324, 325, 326, 327, 328, 329, 330, 331, 332, 333, 334, 335, 336,\n",
       "         337, 338, 340, 341, 342, 343, 344, 345, 346, 347, 348, 349, 350,\n",
       "         351, 352, 353, 354, 355, 357, 358, 359, 360, 362, 363, 364, 365,\n",
       "         366, 367, 368, 369, 370, 372, 373, 374, 375, 376, 377, 378, 379,\n",
       "         380, 381, 382, 383, 384, 385, 386, 387, 388, 389, 390, 391, 392,\n",
       "         393, 394, 395, 396, 397, 398, 399, 400, 401, 402, 403, 404, 405,\n",
       "         406, 407, 408, 409, 410, 411, 412, 413, 414, 415, 416, 418, 419,\n",
       "         420, 421, 422, 423, 424, 425, 426, 427, 429, 430, 431, 432, 433,\n",
       "         434, 435, 436, 437, 438, 439, 440, 441, 442, 443, 444, 447, 448,\n",
       "         449, 450, 451, 452, 453, 454, 455, 456, 457, 458, 459, 460, 461,\n",
       "         462, 465, 466, 467, 469, 470, 471, 472, 473, 474, 475, 476, 477,\n",
       "         479, 480, 482, 483, 484, 485, 486, 487, 488, 489, 490, 491, 492,\n",
       "         493, 494, 495, 496, 497, 498, 499, 500, 501, 502, 503, 504, 505]),\n",
       "  array([  2,  12,  19,  22,  24,  28,  29,  30,  43,  47,  67,  85,  91,\n",
       "          93, 111, 133, 146, 155, 195, 203, 205, 208, 209, 213, 216, 219,\n",
       "         229, 232, 240, 245, 268, 285, 291, 299, 300, 310, 315, 320, 339,\n",
       "         356, 361, 371, 417, 428, 445, 446, 463, 464, 468, 478, 481])),\n",
       " (array([  0,   1,   2,   3,   4,   5,   6,   7,   8,   9,  10,  11,  12,\n",
       "          13,  14,  15,  17,  18,  19,  20,  21,  22,  23,  24,  25,  26,\n",
       "          28,  29,  30,  31,  32,  33,  34,  35,  36,  37,  38,  39,  40,\n",
       "          42,  43,  44,  45,  46,  47,  48,  49,  50,  51,  52,  53,  54,\n",
       "          55,  56,  57,  58,  60,  61,  62,  63,  64,  65,  66,  67,  68,\n",
       "          69,  70,  71,  72,  74,  76,  77,  79,  80,  82,  84,  85,  86,\n",
       "          89,  91,  92,  93,  95,  97,  98,  99, 100, 101, 102, 103, 105,\n",
       "         106, 107, 108, 109, 110, 111, 113, 114, 115, 116, 117, 118, 119,\n",
       "         120, 121, 122, 123, 124, 125, 126, 127, 128, 129, 130, 131, 132,\n",
       "         133, 134, 135, 136, 137, 138, 139, 140, 141, 142, 143, 146, 147,\n",
       "         149, 150, 151, 152, 153, 155, 156, 157, 158, 159, 160, 161, 162,\n",
       "         163, 164, 165, 167, 168, 169, 170, 172, 173, 174, 175, 176, 177,\n",
       "         178, 179, 180, 181, 182, 183, 185, 186, 187, 188, 189, 190, 191,\n",
       "         192, 194, 195, 196, 197, 198, 199, 200, 201, 202, 203, 204, 205,\n",
       "         206, 207, 208, 209, 210, 211, 212, 213, 215, 216, 217, 218, 219,\n",
       "         220, 221, 222, 223, 224, 225, 227, 228, 229, 230, 231, 232, 233,\n",
       "         234, 235, 236, 237, 238, 239, 240, 241, 242, 243, 245, 246, 247,\n",
       "         248, 249, 250, 251, 252, 253, 254, 255, 256, 257, 259, 260, 261,\n",
       "         262, 263, 264, 265, 266, 268, 269, 270, 271, 272, 273, 274, 275,\n",
       "         276, 277, 278, 279, 280, 281, 282, 283, 284, 285, 286, 287, 288,\n",
       "         289, 290, 291, 292, 293, 294, 295, 296, 297, 298, 299, 300, 301,\n",
       "         302, 303, 304, 306, 307, 308, 309, 310, 311, 312, 313, 314, 315,\n",
       "         316, 318, 319, 320, 321, 322, 323, 324, 326, 327, 328, 329, 330,\n",
       "         331, 332, 333, 334, 335, 336, 337, 338, 339, 340, 341, 342, 343,\n",
       "         344, 345, 346, 347, 348, 349, 350, 351, 352, 353, 354, 355, 356,\n",
       "         357, 358, 359, 360, 361, 362, 364, 365, 366, 367, 369, 370, 371,\n",
       "         372, 373, 374, 375, 376, 377, 378, 379, 380, 382, 383, 385, 386,\n",
       "         387, 388, 389, 390, 391, 392, 393, 394, 395, 396, 397, 398, 400,\n",
       "         401, 402, 403, 404, 406, 407, 409, 411, 412, 413, 414, 415, 416,\n",
       "         417, 418, 419, 421, 422, 423, 424, 425, 426, 427, 428, 429, 430,\n",
       "         431, 432, 434, 435, 436, 437, 438, 439, 440, 441, 442, 443, 444,\n",
       "         445, 446, 447, 448, 449, 451, 452, 453, 455, 456, 457, 458, 461,\n",
       "         462, 463, 464, 465, 466, 467, 468, 469, 470, 471, 472, 473, 474,\n",
       "         475, 476, 477, 478, 479, 480, 481, 482, 483, 487, 488, 489, 490,\n",
       "         491, 492, 493, 494, 495, 496, 497, 498, 499, 500, 502, 504, 505]),\n",
       "  array([ 16,  27,  41,  59,  73,  75,  78,  81,  83,  87,  88,  90,  94,\n",
       "          96, 104, 112, 144, 145, 148, 154, 166, 171, 184, 193, 214, 226,\n",
       "         244, 258, 267, 305, 317, 325, 363, 368, 381, 384, 399, 405, 408,\n",
       "         410, 420, 433, 450, 454, 459, 460, 484, 485, 486, 501, 503])),\n",
       " (array([  0,   1,   2,   3,   4,   5,   6,   7,   8,   9,  10,  11,  12,\n",
       "          15,  16,  17,  18,  19,  20,  21,  22,  24,  25,  26,  27,  28,\n",
       "          29,  30,  31,  32,  33,  34,  35,  36,  37,  38,  39,  41,  43,\n",
       "          44,  45,  46,  47,  48,  49,  50,  51,  52,  53,  54,  55,  56,\n",
       "          57,  58,  59,  61,  62,  63,  65,  66,  67,  69,  70,  71,  72,\n",
       "          73,  74,  75,  76,  77,  78,  79,  80,  81,  82,  83,  84,  85,\n",
       "          86,  87,  88,  90,  91,  92,  93,  94,  95,  96,  97,  98,  99,\n",
       "         100, 101, 102, 103, 104, 105, 106, 107, 108, 109, 110, 111, 112,\n",
       "         113, 114, 115, 116, 117, 118, 119, 120, 121, 122, 123, 124, 125,\n",
       "         126, 127, 128, 129, 132, 133, 134, 135, 136, 137, 138, 139, 140,\n",
       "         141, 142, 143, 144, 145, 146, 147, 148, 150, 151, 152, 153, 154,\n",
       "         155, 156, 158, 159, 160, 161, 162, 163, 164, 165, 166, 168, 169,\n",
       "         170, 171, 172, 173, 174, 175, 176, 177, 178, 179, 181, 182, 183,\n",
       "         184, 185, 186, 187, 188, 189, 190, 191, 193, 194, 195, 196, 197,\n",
       "         198, 199, 200, 201, 202, 203, 204, 205, 206, 207, 208, 209, 210,\n",
       "         211, 213, 214, 215, 216, 217, 218, 219, 220, 221, 222, 223, 224,\n",
       "         225, 226, 227, 228, 229, 230, 231, 232, 233, 234, 235, 237, 238,\n",
       "         239, 240, 241, 242, 243, 244, 245, 246, 247, 248, 249, 250, 251,\n",
       "         252, 253, 254, 256, 257, 258, 259, 260, 261, 262, 263, 264, 266,\n",
       "         267, 268, 269, 270, 271, 272, 273, 274, 275, 276, 278, 280, 281,\n",
       "         282, 283, 284, 285, 286, 287, 288, 289, 290, 291, 292, 293, 295,\n",
       "         296, 297, 298, 299, 300, 301, 303, 305, 306, 307, 308, 309, 310,\n",
       "         311, 312, 313, 314, 315, 316, 317, 318, 319, 320, 321, 322, 323,\n",
       "         325, 326, 327, 328, 330, 331, 332, 333, 334, 335, 337, 339, 340,\n",
       "         341, 342, 344, 345, 346, 347, 348, 349, 352, 353, 354, 355, 356,\n",
       "         357, 358, 359, 361, 362, 363, 364, 365, 366, 367, 368, 369, 370,\n",
       "         371, 372, 373, 375, 377, 379, 380, 381, 383, 384, 385, 386, 387,\n",
       "         388, 392, 393, 394, 395, 396, 397, 398, 399, 400, 401, 402, 403,\n",
       "         404, 405, 406, 407, 408, 410, 411, 412, 413, 414, 415, 416, 417,\n",
       "         418, 419, 420, 421, 423, 424, 425, 426, 428, 429, 431, 432, 433,\n",
       "         434, 437, 438, 439, 440, 441, 442, 443, 444, 445, 446, 447, 448,\n",
       "         449, 450, 451, 452, 453, 454, 455, 456, 457, 458, 459, 460, 461,\n",
       "         462, 463, 464, 465, 467, 468, 469, 471, 474, 475, 476, 477, 478,\n",
       "         479, 480, 481, 482, 483, 484, 485, 486, 487, 488, 489, 490, 491,\n",
       "         492, 493, 494, 495, 496, 498, 499, 500, 501, 502, 503, 504, 505]),\n",
       "  array([ 13,  14,  23,  40,  42,  60,  64,  68,  89, 130, 131, 149, 157,\n",
       "         167, 180, 192, 212, 236, 255, 265, 277, 279, 294, 302, 304, 324,\n",
       "         329, 336, 338, 343, 350, 351, 360, 374, 376, 378, 382, 389, 390,\n",
       "         391, 409, 422, 427, 430, 435, 436, 466, 470, 472, 473, 497])),\n",
       " (array([  0,   1,   2,   3,   6,   7,   9,  11,  12,  13,  14,  15,  16,\n",
       "          17,  18,  19,  20,  21,  22,  23,  24,  25,  26,  27,  28,  29,\n",
       "          30,  32,  33,  34,  35,  36,  37,  38,  39,  40,  41,  42,  43,\n",
       "          44,  45,  46,  47,  48,  49,  51,  52,  53,  54,  55,  56,  57,\n",
       "          58,  59,  60,  61,  62,  63,  64,  65,  67,  68,  69,  70,  71,\n",
       "          72,  73,  74,  75,  76,  78,  79,  80,  81,  82,  83,  84,  85,\n",
       "          87,  88,  89,  90,  91,  92,  93,  94,  96,  98, 100, 101, 102,\n",
       "         103, 104, 105, 106, 107, 108, 109, 110, 111, 112, 114, 115, 116,\n",
       "         117, 118, 122, 123, 124, 125, 126, 127, 129, 130, 131, 132, 133,\n",
       "         134, 135, 136, 137, 138, 139, 140, 141, 142, 143, 144, 145, 146,\n",
       "         148, 149, 150, 151, 152, 153, 154, 155, 156, 157, 158, 159, 160,\n",
       "         162, 163, 164, 165, 166, 167, 168, 169, 170, 171, 172, 173, 174,\n",
       "         175, 177, 178, 179, 180, 181, 182, 183, 184, 185, 187, 188, 189,\n",
       "         190, 191, 192, 193, 194, 195, 197, 198, 199, 200, 202, 203, 204,\n",
       "         205, 206, 207, 208, 209, 210, 211, 212, 213, 214, 215, 216, 217,\n",
       "         219, 220, 221, 222, 223, 225, 226, 227, 228, 229, 230, 231, 232,\n",
       "         233, 234, 235, 236, 237, 238, 239, 240, 241, 242, 243, 244, 245,\n",
       "         246, 247, 248, 249, 250, 251, 253, 255, 257, 258, 259, 260, 261,\n",
       "         262, 263, 264, 265, 267, 268, 269, 270, 272, 273, 274, 275, 276,\n",
       "         277, 278, 279, 280, 281, 282, 283, 284, 285, 286, 287, 289, 290,\n",
       "         291, 292, 293, 294, 295, 297, 299, 300, 301, 302, 303, 304, 305,\n",
       "         306, 307, 308, 309, 310, 311, 312, 313, 314, 315, 316, 317, 318,\n",
       "         319, 320, 322, 323, 324, 325, 326, 328, 329, 331, 332, 333, 335,\n",
       "         336, 338, 339, 340, 341, 342, 343, 344, 345, 346, 347, 348, 349,\n",
       "         350, 351, 352, 353, 355, 356, 357, 358, 359, 360, 361, 362, 363,\n",
       "         364, 366, 367, 368, 369, 370, 371, 372, 374, 375, 376, 377, 378,\n",
       "         379, 380, 381, 382, 383, 384, 385, 386, 387, 388, 389, 390, 391,\n",
       "         392, 393, 394, 395, 396, 397, 398, 399, 400, 401, 403, 404, 405,\n",
       "         406, 407, 408, 409, 410, 411, 412, 413, 415, 417, 418, 419, 420,\n",
       "         421, 422, 423, 424, 425, 426, 427, 428, 429, 430, 431, 433, 434,\n",
       "         435, 436, 437, 438, 439, 441, 442, 443, 444, 445, 446, 447, 448,\n",
       "         450, 451, 452, 454, 455, 456, 457, 458, 459, 460, 461, 462, 463,\n",
       "         464, 465, 466, 467, 468, 469, 470, 471, 472, 473, 474, 475, 476,\n",
       "         477, 478, 479, 480, 481, 482, 484, 485, 486, 487, 488, 489, 491,\n",
       "         492, 493, 494, 495, 496, 497, 499, 500, 501, 502, 503, 504, 505]),\n",
       "  array([  4,   5,   8,  10,  31,  50,  66,  77,  86,  95,  97,  99, 113,\n",
       "         119, 120, 121, 128, 147, 161, 176, 186, 196, 201, 218, 224, 252,\n",
       "         254, 256, 266, 271, 288, 296, 298, 321, 327, 330, 334, 337, 354,\n",
       "         365, 373, 402, 414, 416, 432, 440, 449, 453, 483, 490, 498])),\n",
       " (array([  0,   1,   2,   3,   4,   5,   6,   8,   9,  10,  12,  13,  14,\n",
       "          15,  16,  18,  19,  20,  21,  22,  23,  24,  25,  26,  27,  28,\n",
       "          29,  30,  31,  32,  33,  34,  35,  36,  38,  39,  40,  41,  42,\n",
       "          43,  45,  46,  47,  48,  49,  50,  51,  52,  53,  54,  55,  56,\n",
       "          58,  59,  60,  61,  63,  64,  65,  66,  67,  68,  69,  70,  73,\n",
       "          75,  76,  77,  78,  79,  80,  81,  82,  83,  84,  85,  86,  87,\n",
       "          88,  89,  90,  91,  92,  93,  94,  95,  96,  97,  98,  99, 100,\n",
       "         102, 103, 104, 105, 106, 107, 108, 109, 110, 111, 112, 113, 114,\n",
       "         115, 116, 117, 118, 119, 120, 121, 123, 124, 125, 126, 128, 129,\n",
       "         130, 131, 133, 135, 136, 137, 138, 139, 140, 141, 142, 144, 145,\n",
       "         146, 147, 148, 149, 150, 152, 153, 154, 155, 156, 157, 158, 159,\n",
       "         160, 161, 162, 163, 164, 165, 166, 167, 171, 173, 174, 175, 176,\n",
       "         177, 178, 179, 180, 181, 183, 184, 186, 189, 191, 192, 193, 194,\n",
       "         195, 196, 198, 200, 201, 202, 203, 204, 205, 206, 207, 208, 209,\n",
       "         210, 211, 212, 213, 214, 215, 216, 217, 218, 219, 220, 221, 222,\n",
       "         223, 224, 225, 226, 227, 228, 229, 230, 231, 232, 233, 234, 235,\n",
       "         236, 237, 238, 239, 240, 241, 242, 243, 244, 245, 246, 247, 248,\n",
       "         249, 250, 251, 252, 254, 255, 256, 257, 258, 259, 260, 261, 262,\n",
       "         263, 264, 265, 266, 267, 268, 269, 270, 271, 272, 273, 275, 276,\n",
       "         277, 278, 279, 280, 282, 283, 284, 285, 286, 287, 288, 289, 290,\n",
       "         291, 293, 294, 295, 296, 297, 298, 299, 300, 301, 302, 303, 304,\n",
       "         305, 306, 307, 308, 309, 310, 311, 312, 313, 314, 315, 316, 317,\n",
       "         318, 319, 320, 321, 323, 324, 325, 326, 327, 328, 329, 330, 331,\n",
       "         332, 334, 335, 336, 337, 338, 339, 340, 341, 342, 343, 346, 347,\n",
       "         349, 350, 351, 352, 353, 354, 355, 356, 357, 358, 360, 361, 362,\n",
       "         363, 364, 365, 366, 367, 368, 369, 370, 371, 372, 373, 374, 375,\n",
       "         376, 378, 379, 380, 381, 382, 383, 384, 385, 386, 387, 388, 389,\n",
       "         390, 391, 392, 393, 394, 396, 398, 399, 400, 402, 403, 404, 405,\n",
       "         406, 407, 408, 409, 410, 411, 412, 413, 414, 415, 416, 417, 418,\n",
       "         419, 420, 421, 422, 423, 424, 425, 426, 427, 428, 430, 431, 432,\n",
       "         433, 435, 436, 437, 438, 439, 440, 441, 442, 443, 444, 445, 446,\n",
       "         447, 448, 449, 450, 451, 452, 453, 454, 456, 457, 459, 460, 461,\n",
       "         462, 463, 464, 465, 466, 467, 468, 470, 471, 472, 473, 475, 476,\n",
       "         478, 479, 480, 481, 482, 483, 484, 485, 486, 487, 489, 490, 491,\n",
       "         492, 494, 495, 496, 497, 498, 499, 500, 501, 502, 503, 504, 505]),\n",
       "  array([  7,  11,  17,  37,  44,  57,  62,  71,  72,  74, 101, 122, 127,\n",
       "         132, 134, 143, 151, 168, 169, 170, 172, 182, 185, 187, 188, 190,\n",
       "         197, 199, 253, 274, 281, 292, 322, 333, 344, 345, 348, 359, 377,\n",
       "         395, 397, 401, 429, 434, 455, 458, 469, 474, 477, 488, 493])),\n",
       " (array([  0,   2,   3,   4,   5,   6,   7,   8,   9,  10,  11,  12,  13,\n",
       "          14,  15,  16,  17,  18,  19,  21,  22,  23,  24,  25,  27,  28,\n",
       "          29,  30,  31,  32,  33,  34,  35,  36,  37,  38,  39,  40,  41,\n",
       "          42,  43,  44,  45,  46,  47,  48,  50,  51,  52,  53,  54,  56,\n",
       "          57,  58,  59,  60,  61,  62,  63,  64,  65,  66,  67,  68,  69,\n",
       "          70,  71,  72,  73,  74,  75,  77,  78,  79,  80,  81,  83,  84,\n",
       "          85,  86,  87,  88,  89,  90,  91,  92,  93,  94,  95,  96,  97,\n",
       "          98,  99, 100, 101, 102, 103, 104, 105, 106, 107, 109, 110, 111,\n",
       "         112, 113, 114, 115, 116, 117, 118, 119, 120, 121, 122, 123, 124,\n",
       "         125, 126, 127, 128, 130, 131, 132, 133, 134, 135, 136, 137, 138,\n",
       "         140, 142, 143, 144, 145, 146, 147, 148, 149, 151, 152, 154, 155,\n",
       "         157, 158, 159, 160, 161, 162, 163, 166, 167, 168, 169, 170, 171,\n",
       "         172, 173, 174, 176, 177, 178, 179, 180, 181, 182, 183, 184, 185,\n",
       "         186, 187, 188, 189, 190, 191, 192, 193, 194, 195, 196, 197, 198,\n",
       "         199, 200, 201, 202, 203, 204, 205, 206, 207, 208, 209, 210, 211,\n",
       "         212, 213, 214, 215, 216, 217, 218, 219, 220, 221, 222, 223, 224,\n",
       "         225, 226, 229, 231, 232, 233, 235, 236, 237, 238, 240, 241, 242,\n",
       "         243, 244, 245, 247, 248, 249, 250, 251, 252, 253, 254, 255, 256,\n",
       "         257, 258, 261, 262, 263, 264, 265, 266, 267, 268, 270, 271, 272,\n",
       "         273, 274, 275, 276, 277, 278, 279, 280, 281, 282, 283, 284, 285,\n",
       "         286, 288, 291, 292, 294, 295, 296, 298, 299, 300, 301, 302, 303,\n",
       "         304, 305, 306, 309, 310, 311, 312, 313, 314, 315, 317, 318, 320,\n",
       "         321, 322, 323, 324, 325, 326, 327, 328, 329, 330, 332, 333, 334,\n",
       "         335, 336, 337, 338, 339, 340, 341, 342, 343, 344, 345, 346, 347,\n",
       "         348, 349, 350, 351, 352, 354, 355, 356, 357, 358, 359, 360, 361,\n",
       "         362, 363, 364, 365, 367, 368, 369, 370, 371, 373, 374, 375, 376,\n",
       "         377, 378, 380, 381, 382, 383, 384, 385, 386, 387, 388, 389, 390,\n",
       "         391, 392, 394, 395, 396, 397, 398, 399, 400, 401, 402, 404, 405,\n",
       "         406, 408, 409, 410, 411, 412, 413, 414, 415, 416, 417, 418, 419,\n",
       "         420, 422, 423, 424, 425, 426, 427, 428, 429, 430, 431, 432, 433,\n",
       "         434, 435, 436, 437, 438, 439, 440, 441, 442, 443, 444, 445, 446,\n",
       "         448, 449, 450, 451, 452, 453, 454, 455, 456, 457, 458, 459, 460,\n",
       "         461, 462, 463, 464, 465, 466, 467, 468, 469, 470, 471, 472, 473,\n",
       "         474, 475, 476, 477, 478, 481, 482, 483, 484, 485, 486, 487, 488,\n",
       "         489, 490, 491, 493, 494, 495, 496, 497, 498, 501, 502, 503, 505]),\n",
       "  array([  1,  20,  26,  49,  55,  76,  82, 108, 129, 139, 141, 150, 153,\n",
       "         156, 164, 165, 175, 227, 228, 230, 234, 239, 246, 259, 260, 269,\n",
       "         287, 289, 290, 293, 297, 307, 308, 316, 319, 331, 353, 366, 372,\n",
       "         379, 393, 403, 407, 421, 447, 479, 480, 492, 499, 500, 504])),\n",
       " (array([  0,   1,   2,   4,   5,   6,   7,   8,   9,  10,  11,  12,  13,\n",
       "          14,  16,  17,  18,  19,  20,  21,  22,  23,  24,  25,  26,  27,\n",
       "          28,  29,  30,  31,  32,  33,  34,  35,  36,  37,  38,  39,  40,\n",
       "          41,  42,  43,  44,  46,  47,  48,  49,  50,  51,  52,  53,  55,\n",
       "          56,  57,  58,  59,  60,  61,  62,  63,  64,  66,  67,  68,  69,\n",
       "          71,  72,  73,  74,  75,  76,  77,  78,  80,  81,  82,  83,  85,\n",
       "          86,  87,  88,  89,  90,  91,  93,  94,  95,  96,  97,  98,  99,\n",
       "         100, 101, 102, 103, 104, 105, 106, 107, 108, 110, 111, 112, 113,\n",
       "         114, 115, 117, 119, 120, 121, 122, 124, 125, 126, 127, 128, 129,\n",
       "         130, 131, 132, 133, 134, 135, 136, 137, 139, 140, 141, 142, 143,\n",
       "         144, 145, 146, 147, 148, 149, 150, 151, 153, 154, 155, 156, 157,\n",
       "         158, 160, 161, 164, 165, 166, 167, 168, 169, 170, 171, 172, 173,\n",
       "         174, 175, 176, 177, 178, 180, 182, 183, 184, 185, 186, 187, 188,\n",
       "         189, 190, 191, 192, 193, 194, 195, 196, 197, 198, 199, 201, 202,\n",
       "         203, 204, 205, 207, 208, 209, 210, 211, 212, 213, 214, 216, 218,\n",
       "         219, 220, 222, 223, 224, 225, 226, 227, 228, 229, 230, 231, 232,\n",
       "         233, 234, 236, 237, 238, 239, 240, 241, 242, 243, 244, 245, 246,\n",
       "         247, 248, 251, 252, 253, 254, 255, 256, 258, 259, 260, 262, 263,\n",
       "         264, 265, 266, 267, 268, 269, 271, 272, 273, 274, 275, 276, 277,\n",
       "         278, 279, 280, 281, 282, 283, 284, 285, 287, 288, 289, 290, 291,\n",
       "         292, 293, 294, 295, 296, 297, 298, 299, 300, 301, 302, 303, 304,\n",
       "         305, 307, 308, 309, 310, 311, 312, 313, 314, 315, 316, 317, 318,\n",
       "         319, 320, 321, 322, 324, 325, 326, 327, 329, 330, 331, 332, 333,\n",
       "         334, 335, 336, 337, 338, 339, 340, 341, 342, 343, 344, 345, 347,\n",
       "         348, 349, 350, 351, 352, 353, 354, 355, 356, 357, 358, 359, 360,\n",
       "         361, 362, 363, 364, 365, 366, 368, 369, 370, 371, 372, 373, 374,\n",
       "         376, 377, 378, 379, 380, 381, 382, 383, 384, 385, 386, 387, 388,\n",
       "         389, 390, 391, 393, 394, 395, 396, 397, 399, 400, 401, 402, 403,\n",
       "         404, 405, 406, 407, 408, 409, 410, 411, 413, 414, 416, 417, 418,\n",
       "         419, 420, 421, 422, 424, 425, 426, 427, 428, 429, 430, 431, 432,\n",
       "         433, 434, 435, 436, 437, 438, 440, 441, 442, 443, 445, 446, 447,\n",
       "         448, 449, 450, 451, 452, 453, 454, 455, 458, 459, 460, 461, 462,\n",
       "         463, 464, 465, 466, 467, 468, 469, 470, 471, 472, 473, 474, 475,\n",
       "         476, 477, 478, 479, 480, 481, 483, 484, 485, 486, 487, 488, 489,\n",
       "         490, 492, 493, 495, 496, 497, 498, 499, 500, 501, 502, 503, 504,\n",
       "         505]),\n",
       "  array([  3,  15,  45,  54,  65,  70,  79,  84,  92, 109, 116, 118, 123,\n",
       "         138, 152, 159, 162, 163, 179, 181, 200, 206, 215, 217, 221, 235,\n",
       "         249, 250, 257, 261, 270, 286, 306, 323, 328, 346, 367, 375, 392,\n",
       "         398, 412, 415, 423, 439, 444, 456, 457, 482, 491, 494])),\n",
       " (array([  1,   2,   3,   4,   5,   6,   7,   8,   9,  10,  11,  12,  13,\n",
       "          14,  15,  16,  17,  18,  19,  20,  21,  22,  23,  24,  25,  26,\n",
       "          27,  28,  29,  30,  31,  32,  33,  34,  35,  36,  37,  38,  39,\n",
       "          40,  41,  42,  43,  44,  45,  46,  47,  48,  49,  50,  51,  52,\n",
       "          53,  54,  55,  56,  57,  59,  60,  62,  63,  64,  65,  66,  67,\n",
       "          68,  69,  70,  71,  72,  73,  74,  75,  76,  77,  78,  79,  80,\n",
       "          81,  82,  83,  84,  85,  86,  87,  88,  89,  90,  91,  92,  93,\n",
       "          94,  95,  96,  97,  99, 101, 102, 103, 104, 105, 106, 107, 108,\n",
       "         109, 110, 111, 112, 113, 114, 115, 116, 117, 118, 119, 120, 121,\n",
       "         122, 123, 124, 126, 127, 128, 129, 130, 131, 132, 133, 134, 135,\n",
       "         136, 138, 139, 140, 141, 143, 144, 145, 146, 147, 148, 149, 150,\n",
       "         151, 152, 153, 154, 155, 156, 157, 159, 160, 161, 162, 163, 164,\n",
       "         165, 166, 167, 168, 169, 170, 171, 172, 173, 174, 175, 176, 178,\n",
       "         179, 180, 181, 182, 183, 184, 185, 186, 187, 188, 189, 190, 191,\n",
       "         192, 193, 195, 196, 197, 198, 199, 200, 201, 203, 204, 205, 206,\n",
       "         207, 208, 209, 210, 212, 213, 214, 215, 216, 217, 218, 219, 220,\n",
       "         221, 222, 223, 224, 225, 226, 227, 228, 229, 230, 231, 232, 234,\n",
       "         235, 236, 238, 239, 240, 242, 244, 245, 246, 247, 248, 249, 250,\n",
       "         252, 253, 254, 255, 256, 257, 258, 259, 260, 261, 262, 264, 265,\n",
       "         266, 267, 268, 269, 270, 271, 272, 274, 275, 277, 279, 281, 282,\n",
       "         283, 284, 285, 286, 287, 288, 289, 290, 291, 292, 293, 294, 296,\n",
       "         297, 298, 299, 300, 302, 303, 304, 305, 306, 307, 308, 309, 310,\n",
       "         311, 312, 314, 315, 316, 317, 319, 320, 321, 322, 323, 324, 325,\n",
       "         326, 327, 328, 329, 330, 331, 333, 334, 336, 337, 338, 339, 340,\n",
       "         342, 343, 344, 345, 346, 348, 349, 350, 351, 352, 353, 354, 355,\n",
       "         356, 357, 359, 360, 361, 362, 363, 365, 366, 367, 368, 369, 371,\n",
       "         372, 373, 374, 375, 376, 377, 378, 379, 381, 382, 384, 385, 386,\n",
       "         387, 388, 389, 390, 391, 392, 393, 395, 396, 397, 398, 399, 400,\n",
       "         401, 402, 403, 404, 405, 406, 407, 408, 409, 410, 411, 412, 413,\n",
       "         414, 415, 416, 417, 420, 421, 422, 423, 424, 426, 427, 428, 429,\n",
       "         430, 431, 432, 433, 434, 435, 436, 437, 438, 439, 440, 441, 442,\n",
       "         443, 444, 445, 446, 447, 449, 450, 451, 453, 454, 455, 456, 457,\n",
       "         458, 459, 460, 462, 463, 464, 466, 467, 468, 469, 470, 471, 472,\n",
       "         473, 474, 477, 478, 479, 480, 481, 482, 483, 484, 485, 486, 488,\n",
       "         490, 491, 492, 493, 494, 496, 497, 498, 499, 500, 501, 503, 504,\n",
       "         505]),\n",
       "  array([  0,  58,  61,  98, 100, 125, 137, 142, 158, 177, 194, 202, 211,\n",
       "         233, 237, 241, 243, 251, 263, 273, 276, 278, 280, 295, 301, 313,\n",
       "         318, 332, 335, 341, 347, 358, 364, 370, 380, 383, 394, 418, 419,\n",
       "         425, 448, 452, 461, 465, 475, 476, 487, 489, 495, 502])),\n",
       " (array([  0,   1,   2,   3,   4,   5,   6,   7,   8,   9,  10,  11,  12,\n",
       "          13,  14,  15,  16,  17,  19,  20,  21,  22,  23,  24,  26,  27,\n",
       "          28,  29,  30,  31,  33,  34,  37,  38,  40,  41,  42,  43,  44,\n",
       "          45,  46,  47,  49,  50,  53,  54,  55,  56,  57,  58,  59,  60,\n",
       "          61,  62,  63,  64,  65,  66,  67,  68,  69,  70,  71,  72,  73,\n",
       "          74,  75,  76,  77,  78,  79,  80,  81,  82,  83,  84,  85,  86,\n",
       "          87,  88,  89,  90,  91,  92,  93,  94,  95,  96,  97,  98,  99,\n",
       "         100, 101, 102, 103, 104, 106, 107, 108, 109, 110, 111, 112, 113,\n",
       "         116, 118, 119, 120, 121, 122, 123, 125, 126, 127, 128, 129, 130,\n",
       "         131, 132, 133, 134, 135, 136, 137, 138, 139, 140, 141, 142, 143,\n",
       "         144, 145, 146, 147, 148, 149, 150, 151, 152, 153, 154, 155, 156,\n",
       "         157, 158, 159, 160, 161, 162, 163, 164, 165, 166, 167, 168, 169,\n",
       "         170, 171, 172, 174, 175, 176, 177, 179, 180, 181, 182, 184, 185,\n",
       "         186, 187, 188, 189, 190, 191, 192, 193, 194, 195, 196, 197, 199,\n",
       "         200, 201, 202, 203, 204, 205, 206, 207, 208, 209, 210, 211, 212,\n",
       "         213, 214, 215, 216, 217, 218, 219, 221, 224, 225, 226, 227, 228,\n",
       "         229, 230, 231, 232, 233, 234, 235, 236, 237, 238, 239, 240, 241,\n",
       "         243, 244, 245, 246, 247, 249, 250, 251, 252, 253, 254, 255, 256,\n",
       "         257, 258, 259, 260, 261, 263, 265, 266, 267, 268, 269, 270, 271,\n",
       "         272, 273, 274, 275, 276, 277, 278, 279, 280, 281, 282, 285, 286,\n",
       "         287, 288, 289, 290, 291, 292, 293, 294, 295, 296, 297, 298, 299,\n",
       "         300, 301, 302, 304, 305, 306, 307, 308, 310, 311, 312, 313, 315,\n",
       "         316, 317, 318, 319, 320, 321, 322, 323, 324, 325, 327, 328, 329,\n",
       "         330, 331, 332, 333, 334, 335, 336, 337, 338, 339, 340, 341, 343,\n",
       "         344, 345, 346, 347, 348, 350, 351, 353, 354, 356, 357, 358, 359,\n",
       "         360, 361, 362, 363, 364, 365, 366, 367, 368, 370, 371, 372, 373,\n",
       "         374, 375, 376, 377, 378, 379, 380, 381, 382, 383, 384, 386, 389,\n",
       "         390, 391, 392, 393, 394, 395, 396, 397, 398, 399, 401, 402, 403,\n",
       "         404, 405, 407, 408, 409, 410, 412, 414, 415, 416, 417, 418, 419,\n",
       "         420, 421, 422, 423, 424, 425, 427, 428, 429, 430, 431, 432, 433,\n",
       "         434, 435, 436, 438, 439, 440, 441, 443, 444, 445, 446, 447, 448,\n",
       "         449, 450, 451, 452, 453, 454, 455, 456, 457, 458, 459, 460, 461,\n",
       "         463, 464, 465, 466, 468, 469, 470, 471, 472, 473, 474, 475, 476,\n",
       "         477, 478, 479, 480, 481, 482, 483, 484, 485, 486, 487, 488, 489,\n",
       "         490, 491, 492, 493, 494, 495, 497, 498, 499, 500, 501, 502, 503,\n",
       "         504]),\n",
       "  array([ 18,  25,  32,  35,  36,  39,  48,  51,  52, 105, 114, 115, 117,\n",
       "         124, 173, 178, 183, 198, 220, 222, 223, 242, 248, 262, 264, 283,\n",
       "         284, 303, 309, 314, 326, 342, 349, 352, 355, 369, 385, 387, 388,\n",
       "         400, 406, 411, 413, 426, 437, 442, 462, 467, 496, 505])),\n",
       " (array([  0,   1,   2,   3,   4,   5,   7,   8,  10,  11,  12,  13,  14,\n",
       "          15,  16,  17,  18,  19,  20,  22,  23,  24,  25,  26,  27,  28,\n",
       "          29,  30,  31,  32,  35,  36,  37,  39,  40,  41,  42,  43,  44,\n",
       "          45,  47,  48,  49,  50,  51,  52,  54,  55,  57,  58,  59,  60,\n",
       "          61,  62,  64,  65,  66,  67,  68,  70,  71,  72,  73,  74,  75,\n",
       "          76,  77,  78,  79,  81,  82,  83,  84,  85,  86,  87,  88,  89,\n",
       "          90,  91,  92,  93,  94,  95,  96,  97,  98,  99, 100, 101, 104,\n",
       "         105, 108, 109, 111, 112, 113, 114, 115, 116, 117, 118, 119, 120,\n",
       "         121, 122, 123, 124, 125, 127, 128, 129, 130, 131, 132, 133, 134,\n",
       "         137, 138, 139, 141, 142, 143, 144, 145, 146, 147, 148, 149, 150,\n",
       "         151, 152, 153, 154, 155, 156, 157, 158, 159, 161, 162, 163, 164,\n",
       "         165, 166, 167, 168, 169, 170, 171, 172, 173, 175, 176, 177, 178,\n",
       "         179, 180, 181, 182, 183, 184, 185, 186, 187, 188, 190, 192, 193,\n",
       "         194, 195, 196, 197, 198, 199, 200, 201, 202, 203, 205, 206, 208,\n",
       "         209, 211, 212, 213, 214, 215, 216, 217, 218, 219, 220, 221, 222,\n",
       "         223, 224, 226, 227, 228, 229, 230, 232, 233, 234, 235, 236, 237,\n",
       "         239, 240, 241, 242, 243, 244, 245, 246, 248, 249, 250, 251, 252,\n",
       "         253, 254, 255, 256, 257, 258, 259, 260, 261, 262, 263, 264, 265,\n",
       "         266, 267, 268, 269, 270, 271, 273, 274, 276, 277, 278, 279, 280,\n",
       "         281, 283, 284, 285, 286, 287, 288, 289, 290, 291, 292, 293, 294,\n",
       "         295, 296, 297, 298, 299, 300, 301, 302, 303, 304, 305, 306, 307,\n",
       "         308, 309, 310, 313, 314, 315, 316, 317, 318, 319, 320, 321, 322,\n",
       "         323, 324, 325, 326, 327, 328, 329, 330, 331, 332, 333, 334, 335,\n",
       "         336, 337, 338, 339, 341, 342, 343, 344, 345, 346, 347, 348, 349,\n",
       "         350, 351, 352, 353, 354, 355, 356, 358, 359, 360, 361, 363, 364,\n",
       "         365, 366, 367, 368, 369, 370, 371, 372, 373, 374, 375, 376, 377,\n",
       "         378, 379, 380, 381, 382, 383, 384, 385, 387, 388, 389, 390, 391,\n",
       "         392, 393, 394, 395, 397, 398, 399, 400, 401, 402, 403, 405, 406,\n",
       "         407, 408, 409, 410, 411, 412, 413, 414, 415, 416, 417, 418, 419,\n",
       "         420, 421, 422, 423, 425, 426, 427, 428, 429, 430, 432, 433, 434,\n",
       "         435, 436, 437, 439, 440, 442, 444, 445, 446, 447, 448, 449, 450,\n",
       "         452, 453, 454, 455, 456, 457, 458, 459, 460, 461, 462, 463, 464,\n",
       "         465, 466, 467, 468, 469, 470, 472, 473, 474, 475, 476, 477, 478,\n",
       "         479, 480, 481, 482, 483, 484, 485, 486, 487, 488, 489, 490, 491,\n",
       "         492, 493, 494, 495, 496, 497, 498, 499, 500, 501, 502, 503, 504,\n",
       "         505]),\n",
       "  array([  6,   9,  21,  33,  34,  38,  46,  53,  56,  63,  69,  80, 102,\n",
       "         103, 106, 107, 110, 126, 135, 136, 140, 160, 174, 189, 191, 204,\n",
       "         207, 210, 225, 231, 238, 247, 272, 275, 282, 311, 312, 340, 357,\n",
       "         362, 386, 396, 404, 424, 431, 438, 441, 443, 451, 471]))]"
      ]
     },
     "execution_count": 150,
     "metadata": {},
     "output_type": "execute_result"
    }
   ],
   "source": [
    "from sklearn.model_selection import KFold\n",
    "\n",
    "kf = KFold(n_splits=10, shuffle=True)\n",
    "list(kf.split(X,y))\n",
    "\n",
    "# yields 20 arrays (10 sets of 2)"
   ]
  },
  {
   "cell_type": "code",
   "execution_count": 151,
   "metadata": {},
   "outputs": [
    {
     "name": "stdout",
     "output_type": "stream",
     "text": [
      "MSE Training: [21.08385001757109, 23.796566330453402, 23.535737996680865, 22.140056071772943, 20.747403134330014, 23.495631668908484, 23.45251067037296, 23.2334605984763, 21.300491429986792, 23.757410627019254]\n",
      "MSE Testing: [41.13258917674563, 14.851452117383383, 17.91467136435311, 27.684212397384915, 40.35044054879694, 15.546228147442047, 15.523841217486286, 19.73519544338577, 34.56427065250419, 12.673118139968025]\n"
     ]
    }
   ],
   "source": [
    "mse_training_values = []\n",
    "mse_testing_values = []\n",
    "\n",
    "for train_indices, test_indices in kf.split(X, y):\n",
    "    lr = LinearRegression() \n",
    "    X_train = X.iloc[train_indices, :] \n",
    "    y_train = y.iloc[train_indices]\n",
    "    lr.fit(X_train, y_train) \n",
    "    \n",
    "    X_test = X.iloc[test_indices, :]\n",
    "    y_test = y.iloc[test_indices]\n",
    "    \n",
    "    y_pred = lr.predict(X_test)\n",
    "    \n",
    "    mse_train = metrics.mean_squared_error(y_train, linreg.predict(X_train))\n",
    "    mse_training_values.append(mse_train)\n",
    "    \n",
    "    mse_test = metrics.mean_squared_error(y_test, y_pred)\n",
    "    mse_testing_values.append(mse_test)\n",
    "\n",
    "print('MSE Training:', mse_training_values)\n",
    "\n",
    "print('MSE Testing:', mse_testing_values)"
   ]
  },
  {
   "cell_type": "code",
   "execution_count": 152,
   "metadata": {},
   "outputs": [
    {
     "name": "stdout",
     "output_type": "stream",
     "text": [
      "Avg Train MSE: 22.654311854557207\n",
      "Avg Test MSE: 23.99760192054503\n"
     ]
    }
   ],
   "source": [
    "print('Avg Train MSE:', sum(mse_training_values)/float(len(mse_training_values)))\n",
    "print('Avg Test MSE:', sum(mse_testing_values)/float(len(mse_testing_values)))"
   ]
  },
  {
   "cell_type": "markdown",
   "metadata": {},
   "source": [
    "- How well did your model perform on the training set compared to the null model? What does this result tell you about the bias and/or variance of your model?"
   ]
  },
  {
   "cell_type": "markdown",
   "metadata": {},
   "source": [
    "Across the 10 cross-validation runs, the model achieved an average MSE of 22.65 on the training set, substantially better than the null model, which had an MSE of 84.42. The model does better than just guessing the mean each time, meaning some of the features have predictive value. \n",
    "\n",
    "The model is more complex, so bias decreased and variance increased as compared to the null model."
   ]
  },
  {
   "cell_type": "markdown",
   "metadata": {},
   "source": [
    "- How well did your model perform on the test set compared to how well it performed on the training set? What does this result tell you about the bias and/or variance of your model?"
   ]
  },
  {
   "cell_type": "markdown",
   "metadata": {},
   "source": [
    "The model achieved a MSE of 22.65 on the training set and 24.24 on the test set, only slightly higher. The MSE training values range from 20.27 to 24.01, while the MSE testing values range from 10.10 to 47.36. While the means of the two sets are comparable, there is a notable difference in their ranges, suggesting higher variance (and overfitting of the model). "
   ]
  },
  {
   "cell_type": "markdown",
   "metadata": {},
   "source": [
    "- How much of a bias problem does your model appear to have? Why do you say that?"
   ]
  },
  {
   "cell_type": "markdown",
   "metadata": {},
   "source": [
    "The model appears to have less of a bias problem than a variance problem since the training error is not unacceptably high."
   ]
  },
  {
   "cell_type": "markdown",
   "metadata": {},
   "source": [
    "- How much of a variance problem does your model appear to have? Why do you say that?"
   ]
  },
  {
   "cell_type": "markdown",
   "metadata": {},
   "source": [
    "The model appears to have more of a variance problem than a bias problem since the training error is low, but there is a gap between the training and test error (when looking at the range of outputs from the k-fold cross validation)"
   ]
  },
  {
   "cell_type": "markdown",
   "metadata": {},
   "source": [
    "### Adjusting Boston LinReg Model"
   ]
  },
  {
   "cell_type": "markdown",
   "metadata": {},
   "source": [
    "- Add or remove variables from your model to address this problem, and get its test-set MSE using ten-fold cross validation. Did your model get better or worse? By how much?"
   ]
  },
  {
   "cell_type": "code",
   "execution_count": 153,
   "metadata": {},
   "outputs": [],
   "source": [
    "# remove some of the feature_cols based on the scatterplots in the EDA above\n",
    "\n",
    "feature_cols = ['CRIM', 'ZN', 'NOX', 'RM','LSTAT']\n",
    "\n",
    "X = bos_df.loc[:, feature_cols]\n",
    "y = bos_df.loc[:, 'MEDV']\n",
    "\n",
    "X_train, X_test, y_train, y_test = train_test_split(\n",
    "    X, y, random_state=123, train_size=0.70, test_size=0.3)\n",
    "\n",
    "linreg = LinearRegression() \n",
    "linreg.fit(X_train, y_train) \n",
    "y_pred = linreg.predict(X_test) "
   ]
  },
  {
   "cell_type": "code",
   "execution_count": 154,
   "metadata": {},
   "outputs": [
    {
     "name": "stdout",
     "output_type": "stream",
     "text": [
      "MSE Training: [29.67339673660614, 31.13643899398723, 29.88999300880934, 31.926424324043044, 29.726124448357474, 28.912818762427396, 31.175551490606374, 31.229409215015806, 29.062534387753008, 28.415962707716936]\n",
      "MSE Testing: [34.022896282811665, 20.563392120202625, 32.812683368004876, 14.042320676246813, 36.79344315578979, 41.50512124824678, 19.619698074712993, 21.24488356840189, 40.63866867999613, 45.471167183435526]\n",
      "Avg Train MSE: 30.11486540753227\n",
      "Avg Test MSE: 30.67142743578491\n"
     ]
    }
   ],
   "source": [
    "kf = KFold(n_splits=10, shuffle=True)\n",
    "list(kf.split(X,y))\n",
    "\n",
    "mse_training_values = []\n",
    "mse_testing_values = []\n",
    "\n",
    "for train_indices, test_indices in kf.split(X, y):\n",
    "    lr = LinearRegression() \n",
    "    X_train = X.iloc[train_indices, :] \n",
    "    y_train = y.iloc[train_indices]\n",
    "    lr.fit(X_train, y_train) \n",
    "    \n",
    "    X_test = X.iloc[test_indices, :]\n",
    "    y_test = y.iloc[test_indices]\n",
    "    \n",
    "    y_pred = lr.predict(X_test)\n",
    "    \n",
    "    mse_train = metrics.mean_squared_error(y_train, linreg.predict(X_train))\n",
    "    mse_training_values.append(mse_train)\n",
    "    \n",
    "    mse_test = metrics.mean_squared_error(y_test, y_pred)\n",
    "    mse_testing_values.append(mse_test)\n",
    "\n",
    "print('MSE Training:', mse_training_values)\n",
    "print('MSE Testing:', mse_testing_values)\n",
    "\n",
    "print('Avg Train MSE:', sum(mse_training_values)/float(len(mse_training_values)))\n",
    "print('Avg Test MSE:', sum(mse_testing_values)/float(len(mse_testing_values)))"
   ]
  },
  {
   "cell_type": "markdown",
   "metadata": {},
   "source": [
    "_Did your model get better or worse? By how much?_\n",
    "\n",
    "Across the ten k-fold cross validation runs, the average MSE for the test set was 31.2, with a range between 23.79 and 45.39, which is worse than the initial model (by 8). This means I must have removed one or more of the variables that were improving the model's accuracy. "
   ]
  },
  {
   "cell_type": "markdown",
   "metadata": {},
   "source": [
    "- **Bonus:** Find a *transformation* of one of more of your feature variables that allows you to create a model that performs better on the test set than your previous model. \n",
    "\n",
    "Possible examples:\n",
    "    - Square a column\n",
    "    - Take the square root of a column\n",
    "    - Take the logarithm of a column\n",
    "    - Multiply two columns together\n",
    "\n",
    "Tip: Look at scatterplots of MEDV against your column(s) before and after applying the transformation. The transformation should help if it makes the relationship more linear."
   ]
  },
  {
   "cell_type": "code",
   "execution_count": null,
   "metadata": {},
   "outputs": [],
   "source": []
  },
  {
   "cell_type": "markdown",
   "metadata": {},
   "source": [
    "# KNN Practice"
   ]
  },
  {
   "cell_type": "code",
   "execution_count": 155,
   "metadata": {},
   "outputs": [],
   "source": [
    "from sklearn.neighbors import KNeighborsClassifier\n",
    "\n",
    "# Read the iris data into a DataFrame\n",
    "url = 'http://archive.ics.uci.edu/ml/machine-learning-databases/iris/iris.data'\n",
    "\n",
    "col_names = ['sepal_length', 'sepal_width', 'petal_length', 'petal_width', 'species']\n",
    "iris = pd.read_csv(url, header=None, names=col_names)"
   ]
  },
  {
   "cell_type": "code",
   "execution_count": 156,
   "metadata": {},
   "outputs": [
    {
     "data": {
      "text/html": [
       "<div>\n",
       "<style scoped>\n",
       "    .dataframe tbody tr th:only-of-type {\n",
       "        vertical-align: middle;\n",
       "    }\n",
       "\n",
       "    .dataframe tbody tr th {\n",
       "        vertical-align: top;\n",
       "    }\n",
       "\n",
       "    .dataframe thead th {\n",
       "        text-align: right;\n",
       "    }\n",
       "</style>\n",
       "<table border=\"1\" class=\"dataframe\">\n",
       "  <thead>\n",
       "    <tr style=\"text-align: right;\">\n",
       "      <th></th>\n",
       "      <th>sepal_length</th>\n",
       "      <th>sepal_width</th>\n",
       "      <th>petal_length</th>\n",
       "      <th>petal_width</th>\n",
       "      <th>species</th>\n",
       "    </tr>\n",
       "  </thead>\n",
       "  <tbody>\n",
       "    <tr>\n",
       "      <th>0</th>\n",
       "      <td>5.1</td>\n",
       "      <td>3.5</td>\n",
       "      <td>1.4</td>\n",
       "      <td>0.2</td>\n",
       "      <td>Iris-setosa</td>\n",
       "    </tr>\n",
       "    <tr>\n",
       "      <th>1</th>\n",
       "      <td>4.9</td>\n",
       "      <td>3.0</td>\n",
       "      <td>1.4</td>\n",
       "      <td>0.2</td>\n",
       "      <td>Iris-setosa</td>\n",
       "    </tr>\n",
       "    <tr>\n",
       "      <th>2</th>\n",
       "      <td>4.7</td>\n",
       "      <td>3.2</td>\n",
       "      <td>1.3</td>\n",
       "      <td>0.2</td>\n",
       "      <td>Iris-setosa</td>\n",
       "    </tr>\n",
       "    <tr>\n",
       "      <th>3</th>\n",
       "      <td>4.6</td>\n",
       "      <td>3.1</td>\n",
       "      <td>1.5</td>\n",
       "      <td>0.2</td>\n",
       "      <td>Iris-setosa</td>\n",
       "    </tr>\n",
       "    <tr>\n",
       "      <th>4</th>\n",
       "      <td>5.0</td>\n",
       "      <td>3.6</td>\n",
       "      <td>1.4</td>\n",
       "      <td>0.2</td>\n",
       "      <td>Iris-setosa</td>\n",
       "    </tr>\n",
       "  </tbody>\n",
       "</table>\n",
       "</div>"
      ],
      "text/plain": [
       "   sepal_length  sepal_width  petal_length  petal_width      species\n",
       "0           5.1          3.5           1.4          0.2  Iris-setosa\n",
       "1           4.9          3.0           1.4          0.2  Iris-setosa\n",
       "2           4.7          3.2           1.3          0.2  Iris-setosa\n",
       "3           4.6          3.1           1.5          0.2  Iris-setosa\n",
       "4           5.0          3.6           1.4          0.2  Iris-setosa"
      ]
     },
     "execution_count": 156,
     "metadata": {},
     "output_type": "execute_result"
    }
   ],
   "source": [
    "iris.head()"
   ]
  },
  {
   "cell_type": "code",
   "execution_count": 157,
   "metadata": {},
   "outputs": [],
   "source": [
    "# Increase the default figure and font sizes for easier viewing\n",
    "plt.rcParams['figure.figsize'] = (6, 4)\n",
    "plt.rcParams['font.size'] = 14"
   ]
  },
  {
   "cell_type": "code",
   "execution_count": 158,
   "metadata": {},
   "outputs": [],
   "source": [
    "# Create a custom colormap\n",
    "from matplotlib.colors import ListedColormap\n",
    "\n",
    "cmap_bold = ListedColormap(['#FF0000', '#00FF00', '#0000FF'])"
   ]
  },
  {
   "cell_type": "markdown",
   "metadata": {},
   "source": [
    "- Map each iris species to a number. Let's use Iris-setosa':0, 'Iris-versicolor':1, 'Iris-virginica':2 and assign the result to a column called 'species_num'."
   ]
  },
  {
   "cell_type": "code",
   "execution_count": 159,
   "metadata": {},
   "outputs": [
    {
     "data": {
      "text/html": [
       "<div>\n",
       "<style scoped>\n",
       "    .dataframe tbody tr th:only-of-type {\n",
       "        vertical-align: middle;\n",
       "    }\n",
       "\n",
       "    .dataframe tbody tr th {\n",
       "        vertical-align: top;\n",
       "    }\n",
       "\n",
       "    .dataframe thead th {\n",
       "        text-align: right;\n",
       "    }\n",
       "</style>\n",
       "<table border=\"1\" class=\"dataframe\">\n",
       "  <thead>\n",
       "    <tr style=\"text-align: right;\">\n",
       "      <th></th>\n",
       "      <th>sepal_length</th>\n",
       "      <th>sepal_width</th>\n",
       "      <th>petal_length</th>\n",
       "      <th>petal_width</th>\n",
       "      <th>species</th>\n",
       "      <th>species_num</th>\n",
       "    </tr>\n",
       "  </thead>\n",
       "  <tbody>\n",
       "    <tr>\n",
       "      <th>0</th>\n",
       "      <td>5.1</td>\n",
       "      <td>3.5</td>\n",
       "      <td>1.4</td>\n",
       "      <td>0.2</td>\n",
       "      <td>Iris-setosa</td>\n",
       "      <td>0</td>\n",
       "    </tr>\n",
       "    <tr>\n",
       "      <th>1</th>\n",
       "      <td>4.9</td>\n",
       "      <td>3.0</td>\n",
       "      <td>1.4</td>\n",
       "      <td>0.2</td>\n",
       "      <td>Iris-setosa</td>\n",
       "      <td>0</td>\n",
       "    </tr>\n",
       "    <tr>\n",
       "      <th>2</th>\n",
       "      <td>4.7</td>\n",
       "      <td>3.2</td>\n",
       "      <td>1.3</td>\n",
       "      <td>0.2</td>\n",
       "      <td>Iris-setosa</td>\n",
       "      <td>0</td>\n",
       "    </tr>\n",
       "    <tr>\n",
       "      <th>3</th>\n",
       "      <td>4.6</td>\n",
       "      <td>3.1</td>\n",
       "      <td>1.5</td>\n",
       "      <td>0.2</td>\n",
       "      <td>Iris-setosa</td>\n",
       "      <td>0</td>\n",
       "    </tr>\n",
       "    <tr>\n",
       "      <th>4</th>\n",
       "      <td>5.0</td>\n",
       "      <td>3.6</td>\n",
       "      <td>1.4</td>\n",
       "      <td>0.2</td>\n",
       "      <td>Iris-setosa</td>\n",
       "      <td>0</td>\n",
       "    </tr>\n",
       "  </tbody>\n",
       "</table>\n",
       "</div>"
      ],
      "text/plain": [
       "   sepal_length  sepal_width  petal_length  petal_width      species  \\\n",
       "0           5.1          3.5           1.4          0.2  Iris-setosa   \n",
       "1           4.9          3.0           1.4          0.2  Iris-setosa   \n",
       "2           4.7          3.2           1.3          0.2  Iris-setosa   \n",
       "3           4.6          3.1           1.5          0.2  Iris-setosa   \n",
       "4           5.0          3.6           1.4          0.2  Iris-setosa   \n",
       "\n",
       "   species_num  \n",
       "0            0  \n",
       "1            0  \n",
       "2            0  \n",
       "3            0  \n",
       "4            0  "
      ]
     },
     "execution_count": 159,
     "metadata": {},
     "output_type": "execute_result"
    }
   ],
   "source": [
    "iris.loc[:, 'species_num'] = iris.loc[:, 'species'].map(\n",
    "    {'Iris-setosa': 0, 'Iris-versicolor': 1, 'Iris-virginica': 2})\n",
    "\n",
    "iris.head()"
   ]
  },
  {
   "cell_type": "markdown",
   "metadata": {},
   "source": [
    "## Exploratory Data Analysis"
   ]
  },
  {
   "cell_type": "markdown",
   "metadata": {},
   "source": [
    "- Clean Up Data and Perform Exporatory Data Analysis"
   ]
  },
  {
   "cell_type": "markdown",
   "metadata": {},
   "source": [
    "**Items to include:**\n",
    "\n",
    "- Data shape\n",
    "- Data types\n",
    "- Count of null values by column\n",
    "- Basic summary statistics\n",
    "- Number of unique values for each column\n",
    "- Plot of the distribution of each column (e.g. histogram, bar plot, or box plot) grouped by species"
   ]
  },
  {
   "cell_type": "code",
   "execution_count": 160,
   "metadata": {},
   "outputs": [
    {
     "data": {
      "text/plain": [
       "(150, 6)"
      ]
     },
     "execution_count": 160,
     "metadata": {},
     "output_type": "execute_result"
    }
   ],
   "source": [
    "# Data shape\n",
    "iris.shape"
   ]
  },
  {
   "cell_type": "code",
   "execution_count": 161,
   "metadata": {},
   "outputs": [
    {
     "data": {
      "text/plain": [
       "sepal_length    float64\n",
       "sepal_width     float64\n",
       "petal_length    float64\n",
       "petal_width     float64\n",
       "species          object\n",
       "species_num       int64\n",
       "dtype: object"
      ]
     },
     "execution_count": 161,
     "metadata": {},
     "output_type": "execute_result"
    }
   ],
   "source": [
    "# Data types\n",
    "iris.dtypes"
   ]
  },
  {
   "cell_type": "code",
   "execution_count": 162,
   "metadata": {},
   "outputs": [
    {
     "data": {
      "text/plain": [
       "sepal_length    0\n",
       "sepal_width     0\n",
       "petal_length    0\n",
       "petal_width     0\n",
       "species         0\n",
       "species_num     0\n",
       "dtype: int64"
      ]
     },
     "execution_count": 162,
     "metadata": {},
     "output_type": "execute_result"
    }
   ],
   "source": [
    "# Count of null values by column\n",
    "iris.isnull().sum()"
   ]
  },
  {
   "cell_type": "code",
   "execution_count": 163,
   "metadata": {},
   "outputs": [
    {
     "data": {
      "text/html": [
       "<div>\n",
       "<style scoped>\n",
       "    .dataframe tbody tr th:only-of-type {\n",
       "        vertical-align: middle;\n",
       "    }\n",
       "\n",
       "    .dataframe tbody tr th {\n",
       "        vertical-align: top;\n",
       "    }\n",
       "\n",
       "    .dataframe thead th {\n",
       "        text-align: right;\n",
       "    }\n",
       "</style>\n",
       "<table border=\"1\" class=\"dataframe\">\n",
       "  <thead>\n",
       "    <tr style=\"text-align: right;\">\n",
       "      <th></th>\n",
       "      <th>sepal_length</th>\n",
       "      <th>sepal_width</th>\n",
       "      <th>petal_length</th>\n",
       "      <th>petal_width</th>\n",
       "      <th>species_num</th>\n",
       "    </tr>\n",
       "  </thead>\n",
       "  <tbody>\n",
       "    <tr>\n",
       "      <th>count</th>\n",
       "      <td>150.000000</td>\n",
       "      <td>150.000000</td>\n",
       "      <td>150.000000</td>\n",
       "      <td>150.000000</td>\n",
       "      <td>150.000000</td>\n",
       "    </tr>\n",
       "    <tr>\n",
       "      <th>mean</th>\n",
       "      <td>5.843333</td>\n",
       "      <td>3.054000</td>\n",
       "      <td>3.758667</td>\n",
       "      <td>1.198667</td>\n",
       "      <td>1.000000</td>\n",
       "    </tr>\n",
       "    <tr>\n",
       "      <th>std</th>\n",
       "      <td>0.828066</td>\n",
       "      <td>0.433594</td>\n",
       "      <td>1.764420</td>\n",
       "      <td>0.763161</td>\n",
       "      <td>0.819232</td>\n",
       "    </tr>\n",
       "    <tr>\n",
       "      <th>min</th>\n",
       "      <td>4.300000</td>\n",
       "      <td>2.000000</td>\n",
       "      <td>1.000000</td>\n",
       "      <td>0.100000</td>\n",
       "      <td>0.000000</td>\n",
       "    </tr>\n",
       "    <tr>\n",
       "      <th>25%</th>\n",
       "      <td>5.100000</td>\n",
       "      <td>2.800000</td>\n",
       "      <td>1.600000</td>\n",
       "      <td>0.300000</td>\n",
       "      <td>0.000000</td>\n",
       "    </tr>\n",
       "    <tr>\n",
       "      <th>50%</th>\n",
       "      <td>5.800000</td>\n",
       "      <td>3.000000</td>\n",
       "      <td>4.350000</td>\n",
       "      <td>1.300000</td>\n",
       "      <td>1.000000</td>\n",
       "    </tr>\n",
       "    <tr>\n",
       "      <th>75%</th>\n",
       "      <td>6.400000</td>\n",
       "      <td>3.300000</td>\n",
       "      <td>5.100000</td>\n",
       "      <td>1.800000</td>\n",
       "      <td>2.000000</td>\n",
       "    </tr>\n",
       "    <tr>\n",
       "      <th>max</th>\n",
       "      <td>7.900000</td>\n",
       "      <td>4.400000</td>\n",
       "      <td>6.900000</td>\n",
       "      <td>2.500000</td>\n",
       "      <td>2.000000</td>\n",
       "    </tr>\n",
       "  </tbody>\n",
       "</table>\n",
       "</div>"
      ],
      "text/plain": [
       "       sepal_length  sepal_width  petal_length  petal_width  species_num\n",
       "count    150.000000   150.000000    150.000000   150.000000   150.000000\n",
       "mean       5.843333     3.054000      3.758667     1.198667     1.000000\n",
       "std        0.828066     0.433594      1.764420     0.763161     0.819232\n",
       "min        4.300000     2.000000      1.000000     0.100000     0.000000\n",
       "25%        5.100000     2.800000      1.600000     0.300000     0.000000\n",
       "50%        5.800000     3.000000      4.350000     1.300000     1.000000\n",
       "75%        6.400000     3.300000      5.100000     1.800000     2.000000\n",
       "max        7.900000     4.400000      6.900000     2.500000     2.000000"
      ]
     },
     "execution_count": 163,
     "metadata": {},
     "output_type": "execute_result"
    }
   ],
   "source": [
    "# Basic summary statistics\n",
    "iris.describe()"
   ]
  },
  {
   "cell_type": "code",
   "execution_count": 164,
   "metadata": {},
   "outputs": [
    {
     "data": {
      "text/plain": [
       "sepal_length    35\n",
       "sepal_width     23\n",
       "petal_length    43\n",
       "petal_width     22\n",
       "species          3\n",
       "species_num      3\n",
       "dtype: int64"
      ]
     },
     "execution_count": 164,
     "metadata": {},
     "output_type": "execute_result"
    }
   ],
   "source": [
    "# Number of unique values for each column\n",
    "iris.nunique()"
   ]
  },
  {
   "cell_type": "code",
   "execution_count": 165,
   "metadata": {},
   "outputs": [
    {
     "data": {
      "image/png": "[encoded data removed]",
      "text/plain": [
       "<matplotlib.figure.Figure at 0x1a1ce5e9b0>"
      ]
     },
     "metadata": {},
     "output_type": "display_data"
    }
   ],
   "source": [
    "# Plot of the distribution of each column grouped by species\n",
    "\n",
    "axes = iris.boxplot(by='species', \n",
    "                    column=['petal_length', \n",
    "                            'petal_width', \n",
    "                            'sepal_length',\n",
    "                            'sepal_width'], \n",
    "                    figsize=(8,8), \n",
    "                    rot=45)"
   ]
  },
  {
   "cell_type": "markdown",
   "metadata": {},
   "source": [
    "## Determining Accuracy of a Null Model"
   ]
  },
  {
   "cell_type": "markdown",
   "metadata": {},
   "source": [
    "- Get the accuracy of a null model that simply predicts the most common species."
   ]
  },
  {
   "cell_type": "code",
   "execution_count": 166,
   "metadata": {},
   "outputs": [
    {
     "data": {
      "text/plain": [
       "Iris-setosa        50\n",
       "Iris-virginica     50\n",
       "Iris-versicolor    50\n",
       "Name: species, dtype: int64"
      ]
     },
     "execution_count": 166,
     "metadata": {},
     "output_type": "execute_result"
    }
   ],
   "source": [
    "# Determine most common species\n",
    "iris.loc[:, 'species'].value_counts()"
   ]
  },
  {
   "cell_type": "code",
   "execution_count": 167,
   "metadata": {},
   "outputs": [
    {
     "name": "stdout",
     "output_type": "stream",
     "text": [
      "Accuracy of null model predicting most common species: 0.3333333333333333\n"
     ]
    }
   ],
   "source": [
    "# All three species occur in the dataset 50 times\n",
    "# So each have the same chance of being selected\n",
    "# Easy to see null model will yield accuracy of 33.33%\n",
    "# Showing steps to calculate\n",
    "\n",
    "null_pred = np.zeros(len(iris.loc[:, 'species_num'])) + 1\n",
    "print('Accuracy of null model predicting most common species:', \n",
    "      metrics.accuracy_score(iris.loc[:, 'species_num'], null_pred))"
   ]
  },
  {
   "cell_type": "markdown",
   "metadata": {},
   "source": [
    "## Developing a KNN Model"
   ]
  },
  {
   "cell_type": "markdown",
   "metadata": {},
   "source": [
    "- Develop a KNN model to predict species. Use ten-fold cross-validation to evaluate your model's accuracy on both training and test data. Remember to standardize your feature variables!"
   ]
  },
  {
   "cell_type": "code",
   "execution_count": 168,
   "metadata": {},
   "outputs": [
    {
     "name": "stdout",
     "output_type": "stream",
     "text": [
      "Accuracy of model (without k-fold): 0.9473684210526315\n"
     ]
    }
   ],
   "source": [
    "# Develop initial KNN model\n",
    "# No need to standardize feature variables since  same units\n",
    "# Tested this using StandardScalar and model accuracy decreased, so omitting this step\n",
    "\n",
    "feature_cols = ['petal_length', 'petal_width', 'sepal_length', 'sepal_width']\n",
    "\n",
    "X = iris.loc[:, feature_cols]\n",
    "y = iris.loc[:, 'species_num']\n",
    "                \n",
    "X_train, X_test, y_train, y_test = train_test_split(X, y, \n",
    "                                                   random_state=123,\n",
    "                                                   shuffle=True)\n",
    "\n",
    "# Start with n_neighbors=3\n",
    "knn = KNeighborsClassifier(n_neighbors=3) # instantiate\n",
    "knn.fit(X_train, y_train) # fit\n",
    "y_pred_class = knn.predict(X_test) # predict\n",
    "\n",
    "print('Accuracy of model (without k-fold):', \n",
    "      metrics.accuracy_score(y_test, y_pred_class))"
   ]
  },
  {
   "cell_type": "markdown",
   "metadata": {},
   "source": [
    "## K-Fold Cross Validation"
   ]
  },
  {
   "cell_type": "code",
   "execution_count": 169,
   "metadata": {},
   "outputs": [
    {
     "name": "stdout",
     "output_type": "stream",
     "text": [
      "Training Accuracy: [0.9555555555555556, 0.9777777777777777, 0.9555555555555556, 0.9555555555555556, 0.9629629629629629, 0.9703703703703703, 0.9629629629629629, 0.9555555555555556, 0.9555555555555556, 0.9629629629629629]\n",
      "Testing Accuracy: [1.0, 0.8666666666666667, 1.0, 1.0, 0.9333333333333333, 0.9333333333333333, 0.9333333333333333, 1.0, 1.0, 0.9333333333333333]\n"
     ]
    }
   ],
   "source": [
    "kf = KFold(n_splits=10, shuffle=True)\n",
    "kf.split(X, y)\n",
    "\n",
    "accuracy_train_values = []\n",
    "accuracy_test_values = []\n",
    "\n",
    "for train_indices, test_indices in kf.split(X, y):\n",
    "    knn = KNeighborsClassifier(n_neighbors=3)\n",
    "    X_train = X.iloc[train_indices, :] \n",
    "    y_train = y.iloc[train_indices]\n",
    "    knn.fit(X_train, y_train) \n",
    "    \n",
    "    X_test = X.iloc[test_indices, :]\n",
    "    y_test = y.iloc[test_indices]\n",
    "    \n",
    "    y_pred_class = knn.predict(X_test)\n",
    "    \n",
    "    accuracy_train = metrics.accuracy_score(y_train, knn.predict(X_train))\n",
    "    accuracy_train_values.append(accuracy_train)\n",
    "    \n",
    "    accuracy_test = metrics.accuracy_score(y_test, y_pred_class)\n",
    "    accuracy_test_values.append(accuracy_test)\n",
    "\n",
    "print('Training Accuracy:', accuracy_train_values)\n",
    "print('Testing Accuracy:', accuracy_test_values)   "
   ]
  },
  {
   "cell_type": "code",
   "execution_count": 170,
   "metadata": {},
   "outputs": [
    {
     "name": "stdout",
     "output_type": "stream",
     "text": [
      "Avg Train Accuracy: 0.9614814814814816\n",
      "Avg Test Accuracy: 0.9600000000000002\n"
     ]
    }
   ],
   "source": [
    "print('Avg Train Accuracy:', sum(accuracy_train_values)/float(len(accuracy_train_values)))\n",
    "print('Avg Test Accuracy:', sum(accuracy_test_values)/float(len(accuracy_test_values)))"
   ]
  },
  {
   "cell_type": "markdown",
   "metadata": {},
   "source": [
    "- How well did your model perform on the training set compared to the null model? What does this result tell you about the bias and/or variance of your model?"
   ]
  },
  {
   "cell_type": "markdown",
   "metadata": {},
   "source": [
    "The null model had an accuracy score of 0.33, so the KNN model (with n_neighbors=3) did substantially better, with accuracy scores on the training set between 0.95 to 0.97. The KNN model has much more predictive value than the null model. The training error is nominal in this case, so there doens't appear to be a bias problem. And there is not a big gap between the training error and the testing error, meaning there doesn't seem to be a variance problem."
   ]
  },
  {
   "cell_type": "markdown",
   "metadata": {},
   "source": [
    "- How well did your model perform on the test set compared to how well it performed on the training set? What does this result tell you about the bias and/or variance of your model?"
   ]
  },
  {
   "cell_type": "markdown",
   "metadata": {},
   "source": [
    "The model performed very similar on both the training set and the test set. Similarly, since there is not a big gap between the two, the results suggest there isn't a variance problem."
   ]
  },
  {
   "cell_type": "markdown",
   "metadata": {},
   "source": [
    "- Does your model appear to have more of a bias problem or more of a variance problem? Why?"
   ]
  },
  {
   "cell_type": "markdown",
   "metadata": {},
   "source": [
    "Neither, with n_neighbors=3 as is in this model. As noted above, the training error is very small (meaning there does not appear to be a bias problem) and there is not a big gap between the training and testing errors (meaning there doens't appear to be a variance problem)."
   ]
  },
  {
   "cell_type": "markdown",
   "metadata": {},
   "source": [
    "- Adjust $k$ to address this problem, and get the resulting test-set accuracy using ten-fold cross validation. Did your model get better or worse? By how much?"
   ]
  },
  {
   "cell_type": "code",
   "execution_count": 171,
   "metadata": {},
   "outputs": [
    {
     "name": "stdout",
     "output_type": "stream",
     "text": [
      "Training Accuracy: [0.9555555555555556, 0.9481481481481482, 0.9407407407407408, 0.9407407407407408, 0.9555555555555556, 0.9629629629629629, 0.9629629629629629, 0.9481481481481482, 0.9555555555555556, 0.9407407407407408]\n",
      "Testing Accuracy: [0.9333333333333333, 1.0, 0.9333333333333333, 1.0, 0.8666666666666667, 0.8666666666666667, 1.0, 1.0, 0.9333333333333333, 0.9333333333333333]\n"
     ]
    }
   ],
   "source": [
    "# doens't appear to be a bias or variance problem\n",
    "# therefore just testing with another value for k\n",
    "\n",
    "kf = KFold(n_splits=10, shuffle=True)\n",
    "kf.split(X, y)\n",
    "\n",
    "accuracy_train_values = []\n",
    "accuracy_test_values = []\n",
    "\n",
    "for train_indices, test_indices in kf.split(X, y):\n",
    "    knn = KNeighborsClassifier(n_neighbors=40)\n",
    "    X_train = X.iloc[train_indices, :] \n",
    "    y_train = y.iloc[train_indices]\n",
    "    knn.fit(X_train, y_train) \n",
    "    \n",
    "    X_test = X.iloc[test_indices, :]\n",
    "    y_test = y.iloc[test_indices]\n",
    "    \n",
    "    y_pred_class = knn.predict(X_test)\n",
    "    \n",
    "    accuracy_train = metrics.accuracy_score(y_train, knn.predict(X_train))\n",
    "    accuracy_train_values.append(accuracy_train)\n",
    "    \n",
    "    accuracy_test = metrics.accuracy_score(y_test, y_pred_class)\n",
    "    accuracy_test_values.append(accuracy_test)\n",
    "\n",
    "print('Training Accuracy:', accuracy_train_values)\n",
    "print('Testing Accuracy:', accuracy_test_values)   "
   ]
  },
  {
   "cell_type": "code",
   "execution_count": 172,
   "metadata": {},
   "outputs": [
    {
     "name": "stdout",
     "output_type": "stream",
     "text": [
      "Avg Train Accuracy: 0.9511111111111111\n",
      "Avg Test Accuracy: 0.9466666666666667\n"
     ]
    }
   ],
   "source": [
    "print('Avg Train Accuracy:', sum(accuracy_train_values)/float(len(accuracy_train_values)))\n",
    "print('Avg Test Accuracy:', sum(accuracy_test_values)/float(len(accuracy_test_values)))"
   ]
  },
  {
   "cell_type": "markdown",
   "metadata": {},
   "source": [
    "_Did your model get better or worse? By how much?_\n",
    "\n",
    "Increasing the the n_neighbors value from 3 to 40 decreased the model's accuracy. When k=3, the average testing accuracy across the 10 cross validation runs was 0.96, whereas the testing accuracy decreased to 0.93 when k was increased to 40. "
   ]
  },
  {
   "cell_type": "markdown",
   "metadata": {},
   "source": [
    "- Plot your model's test-set accuracy across a range of $k$ values using ten-fold cross validation. Use a large enough range of $k$ values to provide reasonable assurance that making $k$ larger would not help.\n",
    "\n",
    "Tip: Use functions and loops to avoid writing duplicate code."
   ]
  },
  {
   "cell_type": "code",
   "execution_count": 173,
   "metadata": {},
   "outputs": [
    {
     "data": {
      "text/html": [
       "<div>\n",
       "<style scoped>\n",
       "    .dataframe tbody tr th:only-of-type {\n",
       "        vertical-align: middle;\n",
       "    }\n",
       "\n",
       "    .dataframe tbody tr th {\n",
       "        vertical-align: top;\n",
       "    }\n",
       "\n",
       "    .dataframe thead th {\n",
       "        text-align: right;\n",
       "    }\n",
       "</style>\n",
       "<table border=\"1\" class=\"dataframe\">\n",
       "  <thead>\n",
       "    <tr style=\"text-align: right;\">\n",
       "      <th></th>\n",
       "      <th>k</th>\n",
       "      <th>train_score</th>\n",
       "    </tr>\n",
       "  </thead>\n",
       "  <tbody>\n",
       "    <tr>\n",
       "      <th>0</th>\n",
       "      <td>1</td>\n",
       "      <td>1.000000</td>\n",
       "    </tr>\n",
       "    <tr>\n",
       "      <th>1</th>\n",
       "      <td>2</td>\n",
       "      <td>0.980000</td>\n",
       "    </tr>\n",
       "    <tr>\n",
       "      <th>2</th>\n",
       "      <td>3</td>\n",
       "      <td>0.960000</td>\n",
       "    </tr>\n",
       "    <tr>\n",
       "      <th>3</th>\n",
       "      <td>4</td>\n",
       "      <td>0.960000</td>\n",
       "    </tr>\n",
       "    <tr>\n",
       "      <th>4</th>\n",
       "      <td>5</td>\n",
       "      <td>0.966667</td>\n",
       "    </tr>\n",
       "  </tbody>\n",
       "</table>\n",
       "</div>"
      ],
      "text/plain": [
       "   k  train_score\n",
       "0  1     1.000000\n",
       "1  2     0.980000\n",
       "2  3     0.960000\n",
       "3  4     0.960000\n",
       "4  5     0.966667"
      ]
     },
     "execution_count": 173,
     "metadata": {},
     "output_type": "execute_result"
    }
   ],
   "source": [
    "# Determine the best value of k, starting with the training set\n",
    "train_scores = []\n",
    "for k in range(1, 100):\n",
    "    knn = KNeighborsClassifier(n_neighbors=k)\n",
    "    knn.fit(X, y) # training set performance, so use whole dataset\n",
    "    pred = knn.predict(X)\n",
    "    score = sum(pred ==  y) / len(y) # accuracy score\n",
    "    train_scores.append([k, score]) # add accuracy score to list with each k\n",
    "\n",
    "scores_df = pd.DataFrame(train_scores, columns=['k', 'train_score'])\n",
    "scores_df.head()"
   ]
  },
  {
   "cell_type": "code",
   "execution_count": 174,
   "metadata": {},
   "outputs": [
    {
     "data": {
      "text/html": [
       "<div>\n",
       "<style scoped>\n",
       "    .dataframe tbody tr th:only-of-type {\n",
       "        vertical-align: middle;\n",
       "    }\n",
       "\n",
       "    .dataframe tbody tr th {\n",
       "        vertical-align: top;\n",
       "    }\n",
       "\n",
       "    .dataframe thead th {\n",
       "        text-align: right;\n",
       "    }\n",
       "</style>\n",
       "<table border=\"1\" class=\"dataframe\">\n",
       "  <thead>\n",
       "    <tr style=\"text-align: right;\">\n",
       "      <th></th>\n",
       "      <th>k</th>\n",
       "      <th>train_score</th>\n",
       "      <th>test_score</th>\n",
       "    </tr>\n",
       "  </thead>\n",
       "  <tbody>\n",
       "    <tr>\n",
       "      <th>0</th>\n",
       "      <td>1</td>\n",
       "      <td>1.000000</td>\n",
       "      <td>1.0</td>\n",
       "    </tr>\n",
       "    <tr>\n",
       "      <th>1</th>\n",
       "      <td>2</td>\n",
       "      <td>0.980000</td>\n",
       "      <td>1.0</td>\n",
       "    </tr>\n",
       "    <tr>\n",
       "      <th>2</th>\n",
       "      <td>3</td>\n",
       "      <td>0.960000</td>\n",
       "      <td>1.0</td>\n",
       "    </tr>\n",
       "    <tr>\n",
       "      <th>3</th>\n",
       "      <td>4</td>\n",
       "      <td>0.960000</td>\n",
       "      <td>1.0</td>\n",
       "    </tr>\n",
       "    <tr>\n",
       "      <th>4</th>\n",
       "      <td>5</td>\n",
       "      <td>0.966667</td>\n",
       "      <td>1.0</td>\n",
       "    </tr>\n",
       "  </tbody>\n",
       "</table>\n",
       "</div>"
      ],
      "text/plain": [
       "   k  train_score  test_score\n",
       "0  1     1.000000         1.0\n",
       "1  2     0.980000         1.0\n",
       "2  3     0.960000         1.0\n",
       "3  4     0.960000         1.0\n",
       "4  5     0.966667         1.0"
      ]
     },
     "execution_count": 174,
     "metadata": {},
     "output_type": "execute_result"
    }
   ],
   "source": [
    "# Do the same for the test set\n",
    "test_scores = []\n",
    "\n",
    "for k in range(1,100):\n",
    "    knn = KNeighborsClassifier(n_neighbors=k)\n",
    "    knn.fit(X_train, y_train)\n",
    "    y_pred_class = knn.predict(X_test)\n",
    "    test_accuracy = metrics.accuracy_score(y_test, y_pred_class)\n",
    "    test_scores.append(test_accuracy)\n",
    "    \n",
    "scores_df.loc[:, 'test_score'] = test_scores\n",
    "scores_df.head()"
   ]
  },
  {
   "cell_type": "code",
   "execution_count": 175,
   "metadata": {},
   "outputs": [
    {
     "data": {
      "text/plain": [
       "<matplotlib.axes._subplots.AxesSubplot at 0x1a22346e10>"
      ]
     },
     "execution_count": 175,
     "metadata": {},
     "output_type": "execute_result"
    },
    {
     "data": {
      "image/png": "[encoded data removed]",
      "text/plain": [
       "<matplotlib.figure.Figure at 0x1a1cfd6ba8>"
      ]
     },
     "metadata": {},
     "output_type": "display_data"
    }
   ],
   "source": [
    "# Plot test and training scores against k\n",
    "\n",
    "ax = scores_df.plot(x='k', y='train_score')\n",
    "scores_df.plot(x='k', y='test_score', ax=ax)"
   ]
  },
  {
   "cell_type": "code",
   "execution_count": 132,
   "metadata": {},
   "outputs": [
    {
     "data": {
      "text/html": [
       "<div>\n",
       "<style scoped>\n",
       "    .dataframe tbody tr th:only-of-type {\n",
       "        vertical-align: middle;\n",
       "    }\n",
       "\n",
       "    .dataframe tbody tr th {\n",
       "        vertical-align: top;\n",
       "    }\n",
       "\n",
       "    .dataframe thead th {\n",
       "        text-align: right;\n",
       "    }\n",
       "</style>\n",
       "<table border=\"1\" class=\"dataframe\">\n",
       "  <thead>\n",
       "    <tr style=\"text-align: right;\">\n",
       "      <th></th>\n",
       "      <th>k</th>\n",
       "      <th>train_score</th>\n",
       "      <th>test_score</th>\n",
       "    </tr>\n",
       "  </thead>\n",
       "  <tbody>\n",
       "    <tr>\n",
       "      <th>0</th>\n",
       "      <td>1</td>\n",
       "      <td>1.000000</td>\n",
       "      <td>1.0</td>\n",
       "    </tr>\n",
       "    <tr>\n",
       "      <th>46</th>\n",
       "      <td>47</td>\n",
       "      <td>0.953333</td>\n",
       "      <td>1.0</td>\n",
       "    </tr>\n",
       "    <tr>\n",
       "      <th>33</th>\n",
       "      <td>34</td>\n",
       "      <td>0.960000</td>\n",
       "      <td>1.0</td>\n",
       "    </tr>\n",
       "    <tr>\n",
       "      <th>34</th>\n",
       "      <td>35</td>\n",
       "      <td>0.960000</td>\n",
       "      <td>1.0</td>\n",
       "    </tr>\n",
       "    <tr>\n",
       "      <th>35</th>\n",
       "      <td>36</td>\n",
       "      <td>0.953333</td>\n",
       "      <td>1.0</td>\n",
       "    </tr>\n",
       "  </tbody>\n",
       "</table>\n",
       "</div>"
      ],
      "text/plain": [
       "     k  train_score  test_score\n",
       "0    1     1.000000         1.0\n",
       "46  47     0.953333         1.0\n",
       "33  34     0.960000         1.0\n",
       "34  35     0.960000         1.0\n",
       "35  36     0.953333         1.0"
      ]
     },
     "execution_count": 132,
     "metadata": {},
     "output_type": "execute_result"
    }
   ],
   "source": [
    "scores_df.sort_values('test_score', ascending=False).head()\n",
    "\n",
    "# Multiple k-values yield the highest test score\n",
    "# Can select from any of these for the model (15, 9, 17, 16, 14, etc.)"
   ]
  },
  {
   "cell_type": "markdown",
   "metadata": {},
   "source": [
    "- **Bonus:** Find a *transformation* of one of more of your feature variables that allows you to create a model that performs better on the test set than your previous model. \n",
    "\n",
    "Possible examples:\n",
    "    - Square a column\n",
    "    - Take the square root of a column\n",
    "    - Take the logarithm of a column\n",
    "    - Multiply two columns together"
   ]
  },
  {
   "cell_type": "markdown",
   "metadata": {},
   "source": [
    "## Bonus\n",
    "\n",
    "`scikit-learn` is the most popular machine learning library in Python, but there are alternative packages that have different strengths. "
   ]
  },
  {
   "cell_type": "markdown",
   "metadata": {},
   "source": [
    "### Example: Using the Statsmodels Formula"
   ]
  },
  {
   "cell_type": "code",
   "execution_count": 42,
   "metadata": {},
   "outputs": [
    {
     "data": {
      "text/html": [
       "<div>\n",
       "<style scoped>\n",
       "    .dataframe tbody tr th:only-of-type {\n",
       "        vertical-align: middle;\n",
       "    }\n",
       "\n",
       "    .dataframe tbody tr th {\n",
       "        vertical-align: top;\n",
       "    }\n",
       "\n",
       "    .dataframe thead th {\n",
       "        text-align: right;\n",
       "    }\n",
       "</style>\n",
       "<table border=\"1\" class=\"dataframe\">\n",
       "  <thead>\n",
       "    <tr style=\"text-align: right;\">\n",
       "      <th></th>\n",
       "      <th>CRIM</th>\n",
       "      <th>ZN</th>\n",
       "      <th>INDUS</th>\n",
       "      <th>CHAS</th>\n",
       "      <th>NOX</th>\n",
       "      <th>RM</th>\n",
       "      <th>AGE</th>\n",
       "      <th>DIS</th>\n",
       "      <th>RAD</th>\n",
       "      <th>TAX</th>\n",
       "      <th>PTRATIO</th>\n",
       "      <th>B</th>\n",
       "      <th>LSTAT</th>\n",
       "      <th>MEDV</th>\n",
       "    </tr>\n",
       "  </thead>\n",
       "  <tbody>\n",
       "    <tr>\n",
       "      <th>0</th>\n",
       "      <td>0.00632</td>\n",
       "      <td>18.0</td>\n",
       "      <td>2.31</td>\n",
       "      <td>0.0</td>\n",
       "      <td>0.538</td>\n",
       "      <td>6.575</td>\n",
       "      <td>65.2</td>\n",
       "      <td>4.0900</td>\n",
       "      <td>1.0</td>\n",
       "      <td>296.0</td>\n",
       "      <td>15.3</td>\n",
       "      <td>396.90</td>\n",
       "      <td>4.98</td>\n",
       "      <td>24.0</td>\n",
       "    </tr>\n",
       "    <tr>\n",
       "      <th>1</th>\n",
       "      <td>0.02731</td>\n",
       "      <td>0.0</td>\n",
       "      <td>7.07</td>\n",
       "      <td>0.0</td>\n",
       "      <td>0.469</td>\n",
       "      <td>6.421</td>\n",
       "      <td>78.9</td>\n",
       "      <td>4.9671</td>\n",
       "      <td>2.0</td>\n",
       "      <td>242.0</td>\n",
       "      <td>17.8</td>\n",
       "      <td>396.90</td>\n",
       "      <td>9.14</td>\n",
       "      <td>21.6</td>\n",
       "    </tr>\n",
       "    <tr>\n",
       "      <th>2</th>\n",
       "      <td>0.02729</td>\n",
       "      <td>0.0</td>\n",
       "      <td>7.07</td>\n",
       "      <td>0.0</td>\n",
       "      <td>0.469</td>\n",
       "      <td>7.185</td>\n",
       "      <td>61.1</td>\n",
       "      <td>4.9671</td>\n",
       "      <td>2.0</td>\n",
       "      <td>242.0</td>\n",
       "      <td>17.8</td>\n",
       "      <td>392.83</td>\n",
       "      <td>4.03</td>\n",
       "      <td>34.7</td>\n",
       "    </tr>\n",
       "    <tr>\n",
       "      <th>3</th>\n",
       "      <td>0.03237</td>\n",
       "      <td>0.0</td>\n",
       "      <td>2.18</td>\n",
       "      <td>0.0</td>\n",
       "      <td>0.458</td>\n",
       "      <td>6.998</td>\n",
       "      <td>45.8</td>\n",
       "      <td>6.0622</td>\n",
       "      <td>3.0</td>\n",
       "      <td>222.0</td>\n",
       "      <td>18.7</td>\n",
       "      <td>394.63</td>\n",
       "      <td>2.94</td>\n",
       "      <td>33.4</td>\n",
       "    </tr>\n",
       "    <tr>\n",
       "      <th>4</th>\n",
       "      <td>0.06905</td>\n",
       "      <td>0.0</td>\n",
       "      <td>2.18</td>\n",
       "      <td>0.0</td>\n",
       "      <td>0.458</td>\n",
       "      <td>7.147</td>\n",
       "      <td>54.2</td>\n",
       "      <td>6.0622</td>\n",
       "      <td>3.0</td>\n",
       "      <td>222.0</td>\n",
       "      <td>18.7</td>\n",
       "      <td>396.90</td>\n",
       "      <td>5.33</td>\n",
       "      <td>36.2</td>\n",
       "    </tr>\n",
       "  </tbody>\n",
       "</table>\n",
       "</div>"
      ],
      "text/plain": [
       "      CRIM    ZN  INDUS  CHAS    NOX     RM   AGE     DIS  RAD    TAX  \\\n",
       "0  0.00632  18.0   2.31   0.0  0.538  6.575  65.2  4.0900  1.0  296.0   \n",
       "1  0.02731   0.0   7.07   0.0  0.469  6.421  78.9  4.9671  2.0  242.0   \n",
       "2  0.02729   0.0   7.07   0.0  0.469  7.185  61.1  4.9671  2.0  242.0   \n",
       "3  0.03237   0.0   2.18   0.0  0.458  6.998  45.8  6.0622  3.0  222.0   \n",
       "4  0.06905   0.0   2.18   0.0  0.458  7.147  54.2  6.0622  3.0  222.0   \n",
       "\n",
       "   PTRATIO       B  LSTAT  MEDV  \n",
       "0     15.3  396.90   4.98  24.0  \n",
       "1     17.8  396.90   9.14  21.6  \n",
       "2     17.8  392.83   4.03  34.7  \n",
       "3     18.7  394.63   2.94  33.4  \n",
       "4     18.7  396.90   5.33  36.2  "
      ]
     },
     "execution_count": 42,
     "metadata": {},
     "output_type": "execute_result"
    }
   ],
   "source": [
    "# First, format our data in a DataFrame\n",
    "\n",
    "df = pd.DataFrame(boston.data, columns=boston.feature_names)\n",
    "df.loc[:, 'MEDV'] = boston.target\n",
    "df.head()"
   ]
  },
  {
   "cell_type": "code",
   "execution_count": 43,
   "metadata": {},
   "outputs": [
    {
     "data": {
      "text/html": [
       "<table class=\"simpletable\">\n",
       "<caption>OLS Regression Results</caption>\n",
       "<tr>\n",
       "  <th>Dep. Variable:</th>          <td>MEDV</td>       <th>  R-squared:         </th> <td>   0.951</td> \n",
       "</tr>\n",
       "<tr>\n",
       "  <th>Model:</th>                   <td>OLS</td>       <th>  Adj. R-squared:    </th> <td>   0.951</td> \n",
       "</tr>\n",
       "<tr>\n",
       "  <th>Method:</th>             <td>Least Squares</td>  <th>  F-statistic:       </th> <td>   1220.</td> \n",
       "</tr>\n",
       "<tr>\n",
       "  <th>Date:</th>             <td>Wed, 15 Aug 2018</td> <th>  Prob (F-statistic):</th> <td>1.59e-321</td>\n",
       "</tr>\n",
       "<tr>\n",
       "  <th>Time:</th>                 <td>07:13:49</td>     <th>  Log-Likelihood:    </th> <td> -1567.7</td> \n",
       "</tr>\n",
       "<tr>\n",
       "  <th>No. Observations:</th>      <td>   506</td>      <th>  AIC:               </th> <td>   3151.</td> \n",
       "</tr>\n",
       "<tr>\n",
       "  <th>Df Residuals:</th>          <td>   498</td>      <th>  BIC:               </th> <td>   3185.</td> \n",
       "</tr>\n",
       "<tr>\n",
       "  <th>Df Model:</th>              <td>     8</td>      <th>                     </th>     <td> </td>    \n",
       "</tr>\n",
       "<tr>\n",
       "  <th>Covariance Type:</th>      <td>nonrobust</td>    <th>                     </th>     <td> </td>    \n",
       "</tr>\n",
       "</table>\n",
       "<table class=\"simpletable\">\n",
       "<tr>\n",
       "    <td></td>       <th>coef</th>     <th>std err</th>      <th>t</th>      <th>P>|t|</th>  <th>[0.025</th>    <th>0.975]</th>  \n",
       "</tr>\n",
       "<tr>\n",
       "  <th>RM</th>    <td>    4.9744</td> <td>    0.224</td> <td>   22.197</td> <td> 0.000</td> <td>    4.534</td> <td>    5.415</td>\n",
       "</tr>\n",
       "<tr>\n",
       "  <th>LSTAT</th> <td>   -0.5615</td> <td>    0.048</td> <td>  -11.817</td> <td> 0.000</td> <td>   -0.655</td> <td>   -0.468</td>\n",
       "</tr>\n",
       "<tr>\n",
       "  <th>RAD</th>   <td>    0.2109</td> <td>    0.070</td> <td>    3.025</td> <td> 0.003</td> <td>    0.074</td> <td>    0.348</td>\n",
       "</tr>\n",
       "<tr>\n",
       "  <th>TAX</th>   <td>   -0.0174</td> <td>    0.004</td> <td>   -4.267</td> <td> 0.000</td> <td>   -0.025</td> <td>   -0.009</td>\n",
       "</tr>\n",
       "<tr>\n",
       "  <th>NOX</th>   <td>    4.3456</td> <td>    3.385</td> <td>    1.284</td> <td> 0.200</td> <td>   -2.305</td> <td>   10.997</td>\n",
       "</tr>\n",
       "<tr>\n",
       "  <th>INDUS</th> <td>    0.0925</td> <td>    0.067</td> <td>    1.385</td> <td> 0.167</td> <td>   -0.039</td> <td>    0.224</td>\n",
       "</tr>\n",
       "<tr>\n",
       "  <th>CRIM</th>  <td>   -0.0866</td> <td>    0.037</td> <td>   -2.362</td> <td> 0.019</td> <td>   -0.159</td> <td>   -0.015</td>\n",
       "</tr>\n",
       "<tr>\n",
       "  <th>ZN</th>    <td>    0.0288</td> <td>    0.013</td> <td>    2.215</td> <td> 0.027</td> <td>    0.003</td> <td>    0.054</td>\n",
       "</tr>\n",
       "</table>\n",
       "<table class=\"simpletable\">\n",
       "<tr>\n",
       "  <th>Omnibus:</th>       <td>192.072</td> <th>  Durbin-Watson:     </th> <td>   0.812</td> \n",
       "</tr>\n",
       "<tr>\n",
       "  <th>Prob(Omnibus):</th> <td> 0.000</td>  <th>  Jarque-Bera (JB):  </th> <td> 831.634</td> \n",
       "</tr>\n",
       "<tr>\n",
       "  <th>Skew:</th>          <td> 1.665</td>  <th>  Prob(JB):          </th> <td>2.59e-181</td>\n",
       "</tr>\n",
       "<tr>\n",
       "  <th>Kurtosis:</th>      <td> 8.325</td>  <th>  Cond. No.          </th> <td>6.24e+03</td> \n",
       "</tr>\n",
       "</table>"
      ],
      "text/plain": [
       "<class 'statsmodels.iolib.summary.Summary'>\n",
       "\"\"\"\n",
       "                            OLS Regression Results                            \n",
       "==============================================================================\n",
       "Dep. Variable:                   MEDV   R-squared:                       0.951\n",
       "Model:                            OLS   Adj. R-squared:                  0.951\n",
       "Method:                 Least Squares   F-statistic:                     1220.\n",
       "Date:                Wed, 15 Aug 2018   Prob (F-statistic):          1.59e-321\n",
       "Time:                        07:13:49   Log-Likelihood:                -1567.7\n",
       "No. Observations:                 506   AIC:                             3151.\n",
       "Df Residuals:                     498   BIC:                             3185.\n",
       "Df Model:                           8                                         \n",
       "Covariance Type:            nonrobust                                         \n",
       "==============================================================================\n",
       "                 coef    std err          t      P>|t|      [0.025      0.975]\n",
       "------------------------------------------------------------------------------\n",
       "RM             4.9744      0.224     22.197      0.000       4.534       5.415\n",
       "LSTAT         -0.5615      0.048    -11.817      0.000      -0.655      -0.468\n",
       "RAD            0.2109      0.070      3.025      0.003       0.074       0.348\n",
       "TAX           -0.0174      0.004     -4.267      0.000      -0.025      -0.009\n",
       "NOX            4.3456      3.385      1.284      0.200      -2.305      10.997\n",
       "INDUS          0.0925      0.067      1.385      0.167      -0.039       0.224\n",
       "CRIM          -0.0866      0.037     -2.362      0.019      -0.159      -0.015\n",
       "ZN             0.0288      0.013      2.215      0.027       0.003       0.054\n",
       "==============================================================================\n",
       "Omnibus:                      192.072   Durbin-Watson:                   0.812\n",
       "Prob(Omnibus):                  0.000   Jarque-Bera (JB):              831.634\n",
       "Skew:                           1.665   Prob(JB):                    2.59e-181\n",
       "Kurtosis:                       8.325   Cond. No.                     6.24e+03\n",
       "==============================================================================\n",
       "\n",
       "Warnings:\n",
       "[1] Standard Errors assume that the covariance matrix of the errors is correctly specified.\n",
       "[2] The condition number is large, 6.24e+03. This might indicate that there are\n",
       "strong multicollinearity or other numerical problems.\n",
       "\"\"\""
      ]
     },
     "execution_count": 43,
     "metadata": {},
     "output_type": "execute_result"
    }
   ],
   "source": [
    "# Set up our new statsmodel.formula handling model\n",
    "import statsmodels.formula.api as smf\n",
    "\n",
    "# You can easily swap these out to test multiple versions/different formulas\n",
    "formulas = {\n",
    "    \"case1\": \"MEDV ~ RM + LSTAT + RAD + TAX + NOX + INDUS + CRIM + ZN - 1\", # - 1 = remove intercept\n",
    "    \"case2\": \"MEDV ~ NOX + RM\",\n",
    "    \"case3\": \"MEDV ~ RAD + TAX\"\n",
    "}\n",
    "\n",
    "model = smf.ols(formula=formulas['case1'], data=df)\n",
    "result = model.fit()\n",
    "\n",
    "result.summary()"
   ]
  },
  {
   "cell_type": "markdown",
   "metadata": {},
   "source": [
    "### Bonus Challenge #1:\n",
    "\n",
    "Can you optimize your R2, selecting the best features and using either test-train split or k-folds?"
   ]
  },
  {
   "cell_type": "code",
   "execution_count": null,
   "metadata": {},
   "outputs": [],
   "source": []
  },
  {
   "cell_type": "markdown",
   "metadata": {},
   "source": [
    "### Bonus Challenge #2:\n",
    "\n",
    "Given a combination of predictors, can you find another response variable that can be accurately predicted through the exploration of different predictors in this data set?\n",
    "\n",
    "_Tip: Check out pairplots, coefficients, and Pearson scores._"
   ]
  },
  {
   "cell_type": "code",
   "execution_count": 44,
   "metadata": {},
   "outputs": [
    {
     "data": {
      "image/png": "[encoded data removed]",
      "text/plain": [
       "<matplotlib.figure.Figure at 0x1a20d09358>"
      ]
     },
     "metadata": {},
     "output_type": "display_data"
    }
   ],
   "source": [
    "# Check out variable relations\n",
    "import seaborn as sns\n",
    "\n",
    "sns.pairplot(X);"
   ]
  },
  {
   "cell_type": "code",
   "execution_count": 45,
   "metadata": {},
   "outputs": [],
   "source": [
    "# Check out Pearson scores\n"
   ]
  },
  {
   "cell_type": "markdown",
   "metadata": {},
   "source": [
    "### Demo: Patsy"
   ]
  },
  {
   "cell_type": "code",
   "execution_count": 46,
   "metadata": {},
   "outputs": [],
   "source": [
    "import patsy\n",
    "\n",
    "# Add response to the core DataFrame\n",
    "df.loc[:, 'MEDV'] = y"
   ]
  },
  {
   "cell_type": "code",
   "execution_count": 47,
   "metadata": {},
   "outputs": [
    {
     "name": "stderr",
     "output_type": "stream",
     "text": [
      "/Users/emilynilson/anaconda3/lib/python3.6/site-packages/sklearn/model_selection/_split.py:2026: FutureWarning: From version 0.21, test_size will always complement train_size unless both are specified.\n",
      "  FutureWarning)\n"
     ]
    }
   ],
   "source": [
    "from sklearn.model_selection import train_test_split #If you didn't import it earlier, do so now\n",
    "\n",
    "# Easily change your variable predictors without reslicing your DataFrame\n",
    "y, X = patsy.dmatrices(\"MEDV ~ AGE + RM\", data=df, return_type=\"dataframe\")\n",
    "\n",
    "X_train, X_test, y_train, y_test = train_test_split(X, y, train_size=.7)\n"
   ]
  },
  {
   "cell_type": "code",
   "execution_count": 48,
   "metadata": {},
   "outputs": [
    {
     "name": "stdout",
     "output_type": "stream",
     "text": [
      "R^2 Score: -0.11842296412722764\n"
     ]
    }
   ],
   "source": [
    "from sklearn import metrics\n",
    "from sklearn.linear_model import LinearRegression\n",
    "\n",
    "# Rerun your model, iteratively changing your variables and train_size from the previous cell\n",
    "\n",
    "lm = LinearRegression()\n",
    "model = lm.fit(X_train, y_train)\n",
    "\n",
    "predictions = model.predict(X_test)\n",
    "print(\"R^2 Score: {}\".format(metrics.r2_score(y_test, predictions)))"
   ]
  }
 ],
 "metadata": {
  "anaconda-cloud": {},
  "kernelspec": {
   "display_name": "Python 3",
   "language": "python",
   "name": "python3"
  },
  "language_info": {
   "codemirror_mode": {
    "name": "ipython",
    "version": 3
   },
   "file_extension": ".py",
   "mimetype": "text/x-python",
   "name": "python",
   "nbconvert_exporter": "python",
   "pygments_lexer": "ipython3",
   "version": "3.6.4"
  }
 },
 "nbformat": 4,
 "nbformat_minor": 2
}
